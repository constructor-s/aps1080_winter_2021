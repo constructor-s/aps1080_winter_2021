{
  "nbformat": 4,
  "nbformat_minor": 0,
  "metadata": {
    "colab": {
      "name": "A2.ipynb",
      "provenance": [],
      "collapsed_sections": [],
      "toc_visible": true,
      "include_colab_link": true
    },
    "kernelspec": {
      "name": "python3",
      "display_name": "Python 3"
    }
  },
  "cells": [
    {
      "cell_type": "markdown",
      "metadata": {
        "id": "view-in-github",
        "colab_type": "text"
      },
      "source": [
        "<a href=\"https://colab.research.google.com/github/constructor-s/aps1080_winter_2021/blob/main/A2/A2.ipynb\" target=\"_parent\"><img src=\"https://colab.research.google.com/assets/colab-badge.svg\" alt=\"Open In Colab\"/></a>"
      ]
    },
    {
      "cell_type": "markdown",
      "metadata": {
        "id": "5BOcmu-k8RS2"
      },
      "source": [
        "# A2: Monte Carlo "
      ]
    },
    {
      "cell_type": "markdown",
      "metadata": {
        "id": "QnZ2Ue2j8NcF"
      },
      "source": [
        "<!-- Lesson -->\r\n",
        "<!-- ------ -->\r\n",
        "\r\n",
        "### Recap\r\n",
        "\r\n",
        "> Where are we so far in the course? We, in the introduction, mentioned that the RL problem is the problem of designing the intelligence that resides inside an agent (M) enabling it to control an environment (E). The agent is coupled to the environment via: (a) an actuation signal, A\\_t, from M to E, and (b) state, S\\_t, and reward, R\\_T, feedback signals from E to M. The agent must control the environment by selection appropriate actions, A\\_k, based on the feedback it receives, S\\_t and R\\_t. The agent selects its action via a _policy_. The policy may be deterministic or stochastic.\r\n",
        "> \r\n",
        "> This is exactly a classical control theoretic formulation of controller and plant. What, then, is so special that we call this \"reinforcement learning\"? In contrast to classical control theory, we do not assume that we have a full model of E; hence, we must _learn_ something about the environment in order to control it.\r\n",
        "> \r\n",
        "> With dynamic programming, we had perfect knowledge of the environment; i.e., we had access to p(s',r|s,a), the state transition dynamics of E. Using this, we posed the problem of prediction (or policy evaluation, Eval): given a policy pi, and an environment (specified by p), we can iteratively execute a process to obtain, in the limit as n (the number of iterations) goes to infinity, V\\_pi (the state value function of the policy). The foundation of the iterative process was the recursive definition of return and the Bellman relationship. We could do the same of Q\\_pi.\r\n",
        "> \r\n",
        "> We then posed a strategy for policy improvement (Impr), where by if we have a policy pi\\_k, and the associated value function V\\_k, we could propose an improved policy such that in any state, s, we chose the action, a, such that the next state of E, s', would have maximum V\\_pi\\_k(s'). Alternatively, we could simply chose, if we had Q\\_pi\\_k, a=argmax\\_a Q\\_pi\\_k(s, a).\r\n",
        "> \r\n",
        "> Finally, proposed a strategy for control of this environment by an agent. The agent (a) starts with a policy, pi\\_0, (b) executes Eval to obtain the value function, (c) executes Impr to give us pi\\_1, the improved policy, (d) and continues to iterate, alternating Eval and Iter. Since, theoretically, Eval is a process that converges to the value function in the limit (n->\\\\Infty), we illustrated the pragmatic compromise of truncated Eval (Eval\\_trunc) instead of full Eval, and commented that this will also converge to the optimal policy, pi\\_\\*.\r\n",
        "> \r\n",
        "> We note here that for DynProg we could have presented a very straightforward analytical alternative that did not require any of the above; since E is well known (via p), we could have formulated the synthesis of pi\\_\\* via a set of nonlinear equations. However, this is of limited use for cases where we don't have p. The structure of the iterative solution mechanism is generally applicable to a variety of cases, as we will see.\r\n"
      ]
    },
    {
      "cell_type": "markdown",
      "metadata": {
        "id": "th2YO-Cb-zNo"
      },
      "source": [
        "### Monte Carlo Part A\r\n",
        "\r\n",
        "> The first part of our Monte Carlo presentation showed us how the situation changes when we do not have a model (i.e., p). In this case, there is no chance of an analytical synthesis method, and we must employ an iterative approach that is structurally aligned with what we did for DynProg.\r\n",
        "> \r\n",
        "> Monte Carlo methods, in general, are rooted in the idea that we can sample a phenomenon of interest many times, and average the returns to obtain meaningful data. In the context of Reinforcement Learning, we are sampling E's rewards, and averaging them, to estimate the return, and hence the value function. We presented how to do this to solve the policy evaluation (Eval) problem.\r\n",
        "> \r\n",
        "> Policy improvement (Impr) of course relies on a value function to improve policy pi\\_k to pi\\_{k+1}. Since we don't have access to the transition dynamics, p, of E, V\\_pi\\_k is not of much use in Impr. Rather, we need Q\\_pi\\_k so that we can derive the improved policy such that at state s, it choses action a=argmax\\_a Q\\_pi\\_k(s, a). So here we see how Q and V are distinct.\r\n",
        "> \r\n",
        "> We also see, with Monte Carlo, how the notion of RL being a paradigm for control of unknown environments where the agent \"learns through experience\". Monte Carlo methods are based on random sampling of a phenomenon and computation of averages to learn about the efficacy of the agent's action selection policy (i.e., learn the value functions).\r\n",
        "> \r\n",
        "> We also obtain our motivation for stochastic policies at this point. Since we are learning an action value function (state-action value function, Q(s, a)), we must sample the entire space of the domain, i.e. S x A. That is, our agent must -- to learn effectively -- experience the full domain, S x A. In other words, pi(s, a) > 0 for all s, for all a \\\\in A(s) --- all actions that are possible, must have a non-zero probability of being chosen. This is only possible with a stochastic policy.\r\n",
        "> \r\n",
        "> One can also pose the requirement as Monte Carlo (to this point) expects exploring states in the set of episodes that it has to learn from. This means that the episodes must have sufficient coverage of all (s, a) pairs. This is a very onerous requirement; the stochastic policy is far more reasonable comparatively. This leads us to part B of MC. But for now, regardless of these requirements, we can see that we have the elements of a \"learning-by-experience\" AI, with no \"magical thinking\" (i.e., no appeal to undefined, amorphous concepts) required. Nice!\r\n"
      ]
    },
    {
      "cell_type": "markdown",
      "metadata": {
        "id": "ejj2A1Ip-zcY"
      },
      "source": [
        "#### Exercises\r\n",
        "\r\n",
        "> 1\\. Explain clearly why V\\_pi is not useful in the MC development above?\r\n",
        "> \r\n",
        "\r\n",
        "$V_\\pi(s)$ is a function that maps each state to a value given a specific policy $\\pi$. In the on-policy MC development, $\\pi$ does not keep track of the optimal policy but rather also includes an $\\epsilon$-soft component to encourage random exploration. Therefore the $V_\\pi(s)$ is not useful since it does not accurate represent the value of the state. In fact, in off-policy MC, the policy to generate exploratory experiences is completely separated from the actual policy, which means $V_\\pi(s)$ does not indicate the actual value of the state.\r\n",
        "\r\n",
        "> 2\\. The MC algorithm so far (ref: p 99), requires an infinite number of episodes for Eval to converge on Q\\_pi\\_k (step k). We can modify this algorithm to the practical variant where Eval is truncated (c.f., DynProg GPI). In this case:\r\n",
        "> \r\n",
        "> a. Will we obtain Q\\_pi\\_k from eval?\r\n",
        "> \r\n",
        "\r\n",
        "No. Since the evaluation is truncated, only an approximate solution will be obtained.\r\n",
        "\r\n",
        "> b. If not why are we able to truncate Eval? Explain clearly.\r\n",
        "> \r\n",
        "\r\n",
        "Depending on the environment, with an optimal policy, some of the \"bad\" states will be encounted very rarely. Since the goal is to generate an optimal policy, it is not important to sample and evaluate these states.\r\n",
        "\r\n",
        "> c. Assuming ES (i.e., thorough sampling of the S x A space), and the above truncated Eval\\_trunc, is it possible to converge on a sub-optimal policy pi\\_c? Is this a stable fixed point of the GPI for MC? Explain clearly.\r\n",
        "> \r\n",
        "\r\n",
        "It is not possible to converge on a sub-optimal policy since each iteration produces a non-inferior policy as compared to the previous iteration.\r\n",
        "\r\n",
        "> 3\\. Explain how you can synthesize a stochastic policy given what you know so far (you don't need to read ahead).\r\n",
        "\r\n",
        "One possible stochastic policy is to assign at least an $\\epsilon>0$ probability for all state-action pairs such that all $(s, a)\\in S\\times A$ have a finite probability to be sampled."
      ]
    },
    {
      "cell_type": "markdown",
      "metadata": {
        "id": "GvBTGvrG-zmF"
      },
      "source": [
        "### Monte Carlo Part B-1: Stochastic Policies\r\n",
        "\r\n",
        "> Let's remove the requirement for the exploring starts requirement. The straightforward way to do this is to resort to what we mentioned above -- stochastic policies. Let's make this introduction of \"randomness\" concrete and purposeful. In a state s, we have a set of actions, A(s), that the action can take. We also have the greedy action, a = argmax\\_a(Q(s, a)). We now allow all actions to be selected with some epsilon probability, but bias in favor of selecting the greedy action. We select all actions with some probability epsilon/|A(s)| (where |A(s)| is the size of the set A(s)), while selecting the greedy action with probability 1-epsilon + epsilon/|A(s)|. You can clearly see that this scheme extends to cases when multiple equiprobable greedy actions exist.\r\n",
        "> \r\n",
        "> This scheme of formulating a stochastic policy, the epsilon-soft policy, can be used to find a quasi-optimal policy, without the onerous requirements of exploring starts. A good result, that makes MC more practical.\r\n",
        "\r\n"
      ]
    },
    {
      "cell_type": "markdown",
      "metadata": {
        "id": "7nARxsm9-zoU"
      },
      "source": [
        "### Monte Carlo Part B-2: Off Policy Methods\r\n",
        "\r\n",
        "#### On Policy Methods\r\n",
        "\r\n",
        "> The final element of this topic is the notion of on and off policy learning. On Policy learning is what we've been doing so far, and is a special case of Off Policy, as we'll see soon. In On Policy learning, we are executing GPI to identify the optimal control policy, pi\\_\\*, and we're using the instantaneous policy, pi\\_k, as the behaviour generation policy.\r\n",
        "> \r\n",
        "> We should realize, however, that there is a conflict in the above. Let's say we start with a stochastic initial policy, pi\\_0 (recall, we know at least one means to obtain this). We can see that as the GPI iteration proceeds through the interleaved iteration of Eval\\_trunc and Impr, we will get better and better policies.\r\n",
        "> \r\n",
        "> Now, on the one hand these better policies -- **to be useful for control** (i.e., our ultimate goal) -- must be progressively more strongly deterministic (barring ties, which introduce the only necessary randomness, if we have no deterministic way to break the tie).\r\n",
        "> \r\n",
        "> On the other hand, however, these policies -- **to be useful for evaluation** (our sub-goal GPI) -- must be effective samplers (\"explorers\") of the S x A space, which suggests randomness (specifically, for all s, pi(s, a) > 0 for all a \\\\in A(s)). Recall: we need evaluation to succeed, because it is the foundation for greedy improvement.\r\n",
        "> \r\n",
        "> This is a very real problem that must be addressed, which we'll do by generalizing to the use of two policies.\r\n"
      ]
    },
    {
      "cell_type": "markdown",
      "metadata": {
        "id": "s04ACdu7-zrE"
      },
      "source": [
        "#### Off Policy Methods\r\n",
        "\r\n",
        "> In the general case of off-policy learning we have two policies of interest, pi and b. Pi is the policy we are trying to solve for in GPI -- the optimal policy that will allow our agent to control the environment optimally. Policy b is a behaviour generation (\"exploratory\") policy: it has, as per the argument so far, freedom to sample the SxA space due to its stochastic nature. Policy b is perfectly suited to its job: allowing M to sample E as required to, in a monte carlo sense, estimate Q\\_b. Policy pi gets refined (improved) using this Q\\_b. But how can we improve policy pi using the Q from another policy b?\r\n",
        "> \r\n",
        "> Clearly we must have some constraints on pi and b; that constraint is that of _coverage_. Policy b must cover pi, which means that in a state s, pi(a|s) > 0 => b(a|s) > 0. That is, actions taken under pi must also be taken under b. Policy b is thus free to be stochastic and exploratory, given that it is guaranteed to take actions of pi.\r\n",
        "> \r\n",
        "> In (5.3) and (5.4) we see that there is a scaling factor that will relate the value functions computed via b and that of pi. This is an excellent result that enables the use of Off Policy methods: we can indeed look at one policies behaviour in order to optimize another (closely related, per _coverage_) policy. This is the fundamental lesson of section 5.5 in the textbook. The textbook shows two strategies of obtaining the required ratio relating the returns from b vs those of pi: ordinary importance sampling (5.3) and weighted importance sampling (5.6). For this course, it is not important to understand the theoretical foundations for these (largely because it is an area of research for MC, which is out of scope): you must understand how to compute these different ratios, operationally, in an algorithms.\r\n",
        "> \r\n",
        "> Further to the goal of computation (our goal in this course), the textbook in section 5.6 covers recursive formulations of the computation of an average. We must remember that with RL (in contrast to supervised learning that you may have encouraged in the past; if you haven't it is fine, it is not necessary for this course) training is _on-line_. That is, we are learning from experience, i.e., learning _while_ in contact with the environment. (One may also consider simulation-oriented training but even with simulations, the agent is still operating as if it is coupled to the problem space, and learning on-line).\r\n",
        "> \r\n",
        "> Hence, we must be able to compute averages on a sample-by-sample basis, versus the bulk computation that we're normally accustomed to. Section 5.6 presents this incremental computation of the average, and p 110 shows the algorithm for MC Off Policy prediction.\r\n",
        "> \r\n",
        "> With this, we can, as we did for all prior cases, obtain the GPI algorithm for MC Off Policy control on p 111 (of section 5.7).\r\n"
      ]
    },
    {
      "cell_type": "markdown",
      "metadata": {
        "id": "PKaKcZt4-zts"
      },
      "source": [
        "#### Comments\r\n",
        "\r\n",
        "> MC learning has many open issues that require theoretical justification, that are still an open area of research. It represents the opposite case to Dynamic Programming in many respects. Clearly with DynProg, we had p() while with MC we don't. Beyond this, the solution of DynProg refined old estimates to form new estimates of V or Q; this is called _bootstrapping._ This is _not_ the case with MC. With MC, our evaluation is based on the episodes, and is not based directly on refining a prior estimate of the value function (justify this, by looking at the computation of the Q estimates). This makes the algorithm more amenable to efficient computation _and_ also makes it less sensitive to E's violations of the Markov property. Skip 5.8 and 5.9, and read 5.10.\r\n",
        "> \r\n",
        "> Exercise:\r\n",
        "> \r\n",
        "> Code the algorithm for MC Control (Off Policy) and apply this to the Cart Pole problem. You must discretize the environmental feedback (S) in order to solve this problem properly.\r\n"
      ]
    },
    {
      "cell_type": "markdown",
      "metadata": {
        "id": "RCXGRvYovDCI"
      },
      "source": [
        "---\r\n",
        "##### Exercise solution\r\n",
        "\r\n",
        "Below is the solution to the off-policy Cart Pole problem. Here below sets up a function to generate episode:"
      ]
    },
    {
      "cell_type": "code",
      "metadata": {
        "id": "SdWErCtdL9Wz",
        "colab": {
          "base_uri": "https://localhost:8080/"
        },
        "outputId": "f22c9080-5596-4a6b-8b14-fd926e8848bb"
      },
      "source": [
        "#%% Boilerplate setup\r\n",
        "\r\n",
        "import gym, numpy as np, matplotlib.pyplot as plt\r\n",
        "def test_cart_pole(policy_fun, env=gym.make(\"CartPole-v0\"), \r\n",
        "                   max_iter=1000, print_iter=False):\r\n",
        "    \"\"\"\r\n",
        "    Test the policy against the environment\r\n",
        "\r\n",
        "    Parameters\r\n",
        "    ------------------\r\n",
        "    policy_fun : function\r\n",
        "        A funtion that takes the observations tuple from the CartPole \r\n",
        "        environment and returns a valid action of the environment\r\n",
        "\r\n",
        "    Yields\r\n",
        "    ------\r\n",
        "    action, obs, reward, done, info\r\n",
        "        Information for the current iteration and its results\r\n",
        "    \"\"\"\r\n",
        "    obs = env.reset()\r\n",
        "    for i in range(max_iter):\r\n",
        "        action = policy_fun(obs)\r\n",
        "        next_obs, reward, done, info = env.step(action)\r\n",
        "        if print_iter:\r\n",
        "            print(f\"State[{i}]={np.array2string(obs, precision=2, suppress_small=True)}, Action[{i}]={action}, Reward[{i+1}]={reward}\")\r\n",
        "        yield action, obs, reward, done, info\r\n",
        "        obs = next_obs\r\n",
        "        if done:\r\n",
        "            if print_iter:\r\n",
        "                print(f\"State[{i+1}]={np.array2string(obs, precision=2, suppress_small=True)}\")\r\n",
        "            break\r\n",
        "    env.close(); \r\n",
        "    if print_iter:\r\n",
        "        print(\"Iterations that were run:\", i)\r\n",
        "\r\n",
        "# Test that the function works\r\n",
        "rng = np.random.RandomState(0)\r\n",
        "_ = list(test_cart_pole(lambda _: rng.randint(0, 2), print_iter=True))"
      ],
      "execution_count": 1,
      "outputs": [
        {
          "output_type": "stream",
          "text": [
            "State[0]=[-0.01 -0.01 -0.02  0.  ], Action[0]=0, Reward[1]=1.0\n",
            "State[1]=[-0.01 -0.2  -0.02  0.29], Action[1]=1, Reward[2]=1.0\n",
            "State[2]=[-0.02 -0.01 -0.02 -0.01], Action[2]=1, Reward[3]=1.0\n",
            "State[3]=[-0.02  0.19 -0.02 -0.31], Action[3]=0, Reward[4]=1.0\n",
            "State[4]=[-0.01 -0.01 -0.02 -0.02], Action[4]=1, Reward[5]=1.0\n",
            "State[5]=[-0.01  0.19 -0.02 -0.32], Action[5]=1, Reward[6]=1.0\n",
            "State[6]=[-0.01  0.38 -0.03 -0.62], Action[6]=1, Reward[7]=1.0\n",
            "State[7]=[-0.    0.58 -0.04 -0.92], Action[7]=1, Reward[8]=1.0\n",
            "State[8]=[ 0.01  0.77 -0.06 -1.22], Action[8]=1, Reward[9]=1.0\n",
            "State[9]=[ 0.03  0.97 -0.08 -1.54], Action[9]=1, Reward[10]=1.0\n",
            "State[10]=[ 0.05  1.17 -0.11 -1.85], Action[10]=1, Reward[11]=1.0\n",
            "State[11]=[ 0.07  1.36 -0.15 -2.18], Action[11]=0, Reward[12]=1.0\n",
            "State[12]=[ 0.1   1.17 -0.2  -1.94], Action[12]=0, Reward[13]=1.0\n",
            "State[13]=[ 0.12  0.98 -0.23 -1.71]\n",
            "Iterations that were run: 12\n"
          ],
          "name": "stdout"
        }
      ]
    },
    {
      "cell_type": "markdown",
      "metadata": {
        "id": "OpjrdXBivYFd"
      },
      "source": [
        "We require a consistnt scheme to discretize the `observation` into discrete indexed states. Below, each of the four observation variables are discretized into 4 states, generating a total of $4^4=16$ possible states."
      ]
    },
    {
      "cell_type": "code",
      "metadata": {
        "id": "PuYINVvKOq62"
      },
      "source": [
        "#%% Discretization of states\r\n",
        "\r\n",
        "\"\"\"\r\n",
        "Observation:\r\n",
        "    Type: Box(4)\r\n",
        "    Num     Observation               Min                     Max\r\n",
        "    0       Cart Position             -4.8                    4.8\r\n",
        "    1       Cart Velocity             -Inf                    Inf\r\n",
        "    2       Pole Angle                -0.418 rad (-24 deg)    0.418 rad (24 deg)\r\n",
        "    3       Pole Angular Velocity     -Inf                    Inf\r\n",
        "The episode ends when the pole is more than 15 degrees from vertical, \r\n",
        "or the cart moves more than 2.4 units from the center.\r\n",
        "\"\"\"\r\n",
        "\r\n",
        "def obs2state(obs):\r\n",
        "    \"\"\"\r\n",
        "    Discretize observations to states\r\n",
        "    \"\"\"\r\n",
        "    digitized = [np.searchsorted(bins, o, \"right\") \r\n",
        "            for o, bins in zip(obs, obs2state.bin_divide)]\r\n",
        "    return (digitized * obs2state.multiplier).sum()\r\n",
        "\r\n",
        "obs2state.bin_divide = (\r\n",
        "        np.linspace(-2.3, +2.3, 3),\r\n",
        "        np.linspace(-1.0, +1.0, 3),\r\n",
        "        np.linspace(-0.20, +0.20, 3),\r\n",
        "        np.linspace(-1.0, +1.0, 3),\r\n",
        "        )\r\n",
        "obs2state.multiplier = 4**np.arange(4)\r\n",
        "obs2state.S = 4**4 # 8**len(obs)"
      ],
      "execution_count": 2,
      "outputs": []
    },
    {
      "cell_type": "markdown",
      "metadata": {
        "id": "Flm0uhNYvwko"
      },
      "source": [
        "Below, a helper function is created to generate an $\\epsilon$-soft policy based upon an existing policy `pi` to be used as the behaviour policy later:"
      ]
    },
    {
      "cell_type": "code",
      "metadata": {
        "id": "vduwwBlIRhP0"
      },
      "source": [
        "def get_eps_soft_policy(pi, S, A, eps):\r\n",
        "    # assert pi.ndim == 1\r\n",
        "    ret = np.full((S, A), fill_value=1.0*eps/A)\r\n",
        "    ret[np.arange(num_S), pi] += 1 - eps\r\n",
        "    return ret"
      ],
      "execution_count": 3,
      "outputs": []
    },
    {
      "cell_type": "markdown",
      "metadata": {
        "id": "-d2KGDdvwLtj"
      },
      "source": [
        "The off-policy monte-carlo learning algorithm is implemented below based upon page 11 of textbook:"
      ]
    },
    {
      "cell_type": "code",
      "metadata": {
        "colab": {
          "base_uri": "https://localhost:8080/"
        },
        "id": "T3knchHBPecK",
        "outputId": "e89406bd-8987-4c96-ffac-877507610470"
      },
      "source": [
        "#%% Off-policy solution\r\n",
        "# Based on page 111\r\n",
        "\r\n",
        "class LazyStates:\r\n",
        "    def __init__(self, observations):\r\n",
        "        self.observations = observations\r\n",
        "        self.cache = {}\r\n",
        "\r\n",
        "    def __getitem__(self, i):\r\n",
        "        if i in self.cache:\r\n",
        "            return self.cache[i]\r\n",
        "        else:\r\n",
        "            ret = obs2state(self.observations[i])\r\n",
        "            self.cache[i] = ret\r\n",
        "            return ret\r\n",
        "\r\n",
        "gamma=0.9999\r\n",
        "env=gym.make(\"CartPole-v0\")\r\n",
        "rng=np.random.RandomState(0)\r\n",
        "\r\n",
        "num_A = env.action_space.n\r\n",
        "action_space = np.arange(num_A)\r\n",
        "num_S = obs2state.S\r\n",
        "state_space = np.arange(num_S)\r\n",
        "\r\n",
        "# Start of algorithm\r\n",
        "# Initialize\r\n",
        "Q = rng.random([num_S, num_A])\r\n",
        "C = np.zeros([num_S, num_A])\r\n",
        "pi = np.argmax(Q, axis=1)\r\n",
        "\r\n",
        "T_history = []\r\n",
        "S_visit_count = np.zeros([num_S])\r\n",
        "for i in range(3000):\r\n",
        "    # Once in a while we test the current greedy policy to see how it performs\r\n",
        "    if i % 100 == 1:\r\n",
        "        iters = len(list(test_cart_pole(lambda obs: pi[obs2state(obs)], print_iter=False)))\r\n",
        "        b_iters = np.mean(T_history[-100:])\r\n",
        "        \r\n",
        "        print(f\"Learning iter {i}, \" +\r\n",
        "        f\"off-policy average {b_iters}, \" +\r\n",
        "        f\"greedy policy lasted {iters} iterations, \" + \r\n",
        "        f\"eps = {eps}\")\r\n",
        "    \r\n",
        "    # Taper the eps value as the training progresses and \r\n",
        "    # the model gets closer to optimum\r\n",
        "    eps = 0.1 - 0.099/3000 * i\r\n",
        "    # b <- any soft policy\r\n",
        "    b = get_eps_soft_policy(pi, num_S, num_A, eps=eps)\r\n",
        "    # Generate an episode\r\n",
        "    actions, obses, rewards, dones, infos = zip(\r\n",
        "        *test_cart_pole(\r\n",
        "            lambda obs: rng.choice(action_space, p=b[obs2state(obs)])\r\n",
        "        )\r\n",
        "    )\r\n",
        "    # Compatibility with textbook notation\r\n",
        "    R = np.array([None] + list(rewards))\r\n",
        "    S = np.array([obs2state(i) for i in obses])\r\n",
        "    for s in S:\r\n",
        "        S_visit_count[s] += 1\r\n",
        "    A = np.array(actions)\r\n",
        "\r\n",
        "    G = 0\r\n",
        "    W = 1\r\n",
        "    T = len(actions)\r\n",
        "    T_history.append(T)\r\n",
        "    for t in range(T-1, -1, -1):\r\n",
        "        G = gamma * G + R[t+1]\r\n",
        "        C[S[t], A[t]] = C[S[t], A[t]] + W\r\n",
        "        Q[S[t], A[t]] = (Q[S[t], A[t]] + \r\n",
        "                        W / C[S[t], A[t]] * (G - Q[S[t], A[t]]))\r\n",
        "        pi = np.argmax(Q, axis=1)\r\n",
        "        if A[t] != pi[S[t]]:\r\n",
        "            # then exit inner loop (proceed to next episode)\r\n",
        "            break\r\n",
        "        W = W * 1.0 / b[S[t], A[t]]\r\n",
        "\r\n",
        "# End of algorithm"
      ],
      "execution_count": 70,
      "outputs": [
        {
          "output_type": "stream",
          "text": [
            "Learning iter 1, off-policy average 33.0, greedy policy lasted 13 iterations, eps = 0.1\n",
            "Learning iter 101, off-policy average 23.09, greedy policy lasted 12 iterations, eps = 0.09670000000000001\n",
            "Learning iter 201, off-policy average 39.31, greedy policy lasted 15 iterations, eps = 0.09340000000000001\n",
            "Learning iter 301, off-policy average 23.01, greedy policy lasted 16 iterations, eps = 0.0901\n",
            "Learning iter 401, off-policy average 21.88, greedy policy lasted 14 iterations, eps = 0.0868\n",
            "Learning iter 501, off-policy average 23.25, greedy policy lasted 18 iterations, eps = 0.0835\n",
            "Learning iter 601, off-policy average 23.73, greedy policy lasted 53 iterations, eps = 0.08020000000000001\n",
            "Learning iter 701, off-policy average 105.47, greedy policy lasted 200 iterations, eps = 0.0769\n",
            "Learning iter 801, off-policy average 96.97, greedy policy lasted 142 iterations, eps = 0.0736\n",
            "Learning iter 901, off-policy average 39.76, greedy policy lasted 200 iterations, eps = 0.0703\n",
            "Learning iter 1001, off-policy average 35.81, greedy policy lasted 162 iterations, eps = 0.067\n",
            "Learning iter 1101, off-policy average 40.98, greedy policy lasted 25 iterations, eps = 0.0637\n",
            "Learning iter 1201, off-policy average 41.4, greedy policy lasted 14 iterations, eps = 0.0604\n",
            "Learning iter 1301, off-policy average 51.65, greedy policy lasted 12 iterations, eps = 0.057100000000000005\n",
            "Learning iter 1401, off-policy average 40.62, greedy policy lasted 25 iterations, eps = 0.0538\n",
            "Learning iter 1501, off-policy average 88.44, greedy policy lasted 149 iterations, eps = 0.0505\n",
            "Learning iter 1601, off-policy average 187.82, greedy policy lasted 200 iterations, eps = 0.0472\n",
            "Learning iter 1701, off-policy average 189.25, greedy policy lasted 200 iterations, eps = 0.0439\n",
            "Learning iter 1801, off-policy average 195.17, greedy policy lasted 200 iterations, eps = 0.040600000000000004\n",
            "Learning iter 1901, off-policy average 199.77, greedy policy lasted 200 iterations, eps = 0.0373\n",
            "Learning iter 2001, off-policy average 199.89, greedy policy lasted 200 iterations, eps = 0.034\n",
            "Learning iter 2101, off-policy average 199.9, greedy policy lasted 200 iterations, eps = 0.030700000000000005\n",
            "Learning iter 2201, off-policy average 197.78, greedy policy lasted 200 iterations, eps = 0.027399999999999994\n",
            "Learning iter 2301, off-policy average 199.39, greedy policy lasted 200 iterations, eps = 0.024099999999999996\n",
            "Learning iter 2401, off-policy average 200.0, greedy policy lasted 200 iterations, eps = 0.0208\n",
            "Learning iter 2501, off-policy average 200.0, greedy policy lasted 200 iterations, eps = 0.0175\n",
            "Learning iter 2601, off-policy average 200.0, greedy policy lasted 200 iterations, eps = 0.014200000000000004\n",
            "Learning iter 2701, off-policy average 199.97, greedy policy lasted 200 iterations, eps = 0.010899999999999993\n",
            "Learning iter 2801, off-policy average 200.0, greedy policy lasted 200 iterations, eps = 0.007599999999999996\n",
            "Learning iter 2901, off-policy average 200.0, greedy policy lasted 200 iterations, eps = 0.004299999999999998\n"
          ],
          "name": "stdout"
        }
      ]
    },
    {
      "cell_type": "markdown",
      "metadata": {
        "id": "C5uCEHNfwnvl"
      },
      "source": [
        "When using an $\\epsilon$-soft policy as the behaviour policy, we also visualize how the behaviour policy performed during the training - it should have been improving."
      ]
    },
    {
      "cell_type": "code",
      "metadata": {
        "colab": {
          "base_uri": "https://localhost:8080/",
          "height": 314
        },
        "id": "ovpgOPMJa2wF",
        "outputId": "29a421b7-c39e-434d-8ce6-dc188d9609fe"
      },
      "source": [
        "import matplotlib.pyplot as plt\n",
        "plt.plot(T_history, '.', markersize=1, alpha=0.5)\n",
        "plt.title(\"Performance of soft off-policy during training\")\n",
        "plt.xlabel(\"Learning Iteration\")\n",
        "plt.ylabel(\"Training Episode Lasted Iterations\")"
      ],
      "execution_count": 71,
      "outputs": [
        {
          "output_type": "execute_result",
          "data": {
            "text/plain": [
              "Text(0, 0.5, 'Training Episode Lasted Iterations')"
            ]
          },
          "metadata": {
            "tags": []
          },
          "execution_count": 71
        },
        {
          "output_type": "display_data",
          "data": {
            "image/png": "[encoded data removed]",
            "text/plain": [
              "<Figure size 432x288 with 1 Axes>"
            ]
          },
          "metadata": {
            "tags": [],
            "needs_background": "light"
          }
        }
      ]
    },
    {
      "cell_type": "markdown",
      "metadata": {
        "id": "NxxOlfWVwnCV"
      },
      "source": [
        "Finally we test how well the learned greedy policy performs. In this case, we can see that it consistenly lasted 200 iterations."
      ]
    },
    {
      "cell_type": "code",
      "metadata": {
        "colab": {
          "base_uri": "https://localhost:8080/"
        },
        "id": "gy44miD2WChz",
        "outputId": "c51aedf3-729b-4ce9-c038-c2a9a293f51d"
      },
      "source": [
        "for i in range(10):\n",
        "    data = list(test_cart_pole(lambda obs: pi[obs2state(obs)], print_iter=False))\n",
        "    iters = len(data)\n",
        "    print(f\"Testing iter {i}, lasted {iters} iterations\")\n"
      ],
      "execution_count": 72,
      "outputs": [
        {
          "output_type": "stream",
          "text": [
            "Testing iter 0, lasted 200 iterations\n",
            "Testing iter 1, lasted 200 iterations\n",
            "Testing iter 2, lasted 200 iterations\n",
            "Testing iter 3, lasted 200 iterations\n",
            "Testing iter 4, lasted 200 iterations\n",
            "Testing iter 5, lasted 200 iterations\n",
            "Testing iter 6, lasted 200 iterations\n",
            "Testing iter 7, lasted 200 iterations\n",
            "Testing iter 8, lasted 200 iterations\n",
            "Testing iter 9, lasted 200 iterations\n"
          ],
          "name": "stdout"
        }
      ]
    },
    {
      "cell_type": "markdown",
      "metadata": {
        "id": "9J85yyULOPkT"
      },
      "source": [
        "Save the model"
      ]
    },
    {
      "cell_type": "code",
      "metadata": {
        "id": "NBZNztDQOPxN"
      },
      "source": [
        "import pickle\r\n",
        "\r\n",
        "with open(\"model.pickle\", \"wb\") as f:\r\n",
        "    pickle.dump({\r\n",
        "        \"obs2state_fun\": obs2state,\r\n",
        "        \"Q\": Q,\r\n",
        "        \"pi\": pi\r\n",
        "    }, f)\r\n"
      ],
      "execution_count": 21,
      "outputs": []
    },
    {
      "cell_type": "markdown",
      "metadata": {
        "id": "I7LSYykNxBPf"
      },
      "source": [
        "\r\n",
        "\r\n",
        "\r\n",
        "\r\n",
        "---\r\n",
        "\r\n"
      ]
    },
    {
      "cell_type": "markdown",
      "metadata": {
        "id": "ybFWr-BA-zwf"
      },
      "source": [
        "> (Optional)\r\n",
        "> \r\n",
        "> Explore the OpenAI gyms that are available, and find a discrete environment, and employ your MC control algorithm for it.\r\n"
      ]
    },
    {
      "cell_type": "markdown",
      "metadata": {
        "id": "6L1jlxKb-zyn"
      },
      "source": [
        "> The goal of this assignment is to ensure you understand the underlying algorithms of MC control, as distinct from DynProg. Start early and ask questions. The goal is to prepare you for the test: the test will stress the concepts. The assignment will generate working knowledge for these concepts, complementing and reinforcing your theoretical/conceptual knowledge.\r\n",
        "> \r\n",
        "> Submit the code via a file called assignment.py; if you choose to do the optional work, submit it as optional.py.\r\n",
        "> \r\n",
        "> Answer the exercise questions above, and show logs from your code showing how long your solver can keep the pole balanced; the goal is clearly to balance it indefinitely (say for 10,000 steps). This should be submitted as a pdf: assignment.pdf. If you do optional, submit the logs as optional.pdf. For any logs, you must be very clear and explain what you are showing, and what it means. Just submitting a raw log with no comments or explanation is insufficient and can not be properly graded.\r\n",
        "> \r\n",
        "> This assignment can be done within a week, however, I have given you a penalty-free extension as noted. No requests for extensions will be entertained."
      ]
    }
  ]
}