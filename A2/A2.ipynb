{
  "nbformat": 4,
  "nbformat_minor": 0,
  "metadata": {
    "colab": {
      "name": "A2.ipynb",
      "provenance": [],
      "collapsed_sections": [],
      "include_colab_link": true
    },
    "kernelspec": {
      "name": "python3",
      "display_name": "Python 3"
    }
  },
  "cells": [
    {
      "cell_type": "markdown",
      "metadata": {
        "id": "view-in-github",
        "colab_type": "text"
      },
      "source": [
        "<a href=\"https://colab.research.google.com/github/constructor-s/aps1080_winter_2021/blob/main/A2/A2.ipynb\" target=\"_parent\"><img src=\"https://colab.research.google.com/assets/colab-badge.svg\" alt=\"Open In Colab\"/></a>"
      ]
    },
    {
      "cell_type": "markdown",
      "metadata": {
        "id": "5BOcmu-k8RS2"
      },
      "source": [
        "# A2: Monte Carlo "
      ]
    },
    {
      "cell_type": "markdown",
      "metadata": {
        "id": "QnZ2Ue2j8NcF"
      },
      "source": [
        "<!-- Lesson -->\r\n",
        "<!-- ------ -->\r\n",
        "\r\n",
        "### Recap\r\n",
        "\r\n",
        "> Where are we so far in the course? We, in the introduction, mentioned that the RL problem is the problem of designing the intelligence that resides inside an agent (M) enabling it to control an environment (E). The agent is coupled to the environment via: (a) an actuation signal, A\\_t, from M to E, and (b) state, S\\_t, and reward, R\\_T, feedback signals from E to M. The agent must control the environment by selection appropriate actions, A\\_k, based on the feedback it receives, S\\_t and R\\_t. The agent selects its action via a _policy_. The policy may be deterministic or stochastic.\r\n",
        "> \r\n",
        "> This is exactly a classical control theoretic formulation of controller and plant. What, then, is so special that we call this \"reinforcement learning\"? In contrast to classical control theory, we do not assume that we have a full model of E; hence, we must _learn_ something about the environment in order to control it.\r\n",
        "> \r\n",
        "> With dynamic programming, we had perfect knowledge of the environment; i.e., we had access to p(s',r|s,a), the state transition dynamics of E. Using this, we posed the problem of prediction (or policy evaluation, Eval): given a policy pi, and an environment (specified by p), we can iteratively execute a process to obtain, in the limit as n (the number of iterations) goes to infinity, V\\_pi (the state value function of the policy). The foundation of the iterative process was the recursive definition of return and the Bellman relationship. We could do the same of Q\\_pi.\r\n",
        "> \r\n",
        "> We then posed a strategy for policy improvement (Impr), where by if we have a policy pi\\_k, and the associated value function V\\_k, we could propose an improved policy such that in any state, s, we chose the action, a, such that the next state of E, s', would have maximum V\\_pi\\_k(s'). Alternatively, we could simply chose, if we had Q\\_pi\\_k, a=argmax\\_a Q\\_pi\\_k(s, a).\r\n",
        "> \r\n",
        "> Finally, proposed a strategy for control of this environment by an agent. The agent (a) starts with a policy, pi\\_0, (b) executes Eval to obtain the value function, (c) executes Impr to give us pi\\_1, the improved policy, (d) and continues to iterate, alternating Eval and Iter. Since, theoretically, Eval is a process that converges to the value function in the limit (n->\\\\Infty), we illustrated the pragmatic compromise of truncated Eval (Eval\\_trunc) instead of full Eval, and commented that this will also converge to the optimal policy, pi\\_\\*.\r\n",
        "> \r\n",
        "> We note here that for DynProg we could have presented a very straightforward analytical alternative that did not require any of the above; since E is well known (via p), we could have formulated the synthesis of pi\\_\\* via a set of nonlinear equations. However, this is of limited use for cases where we don't have p. The structure of the iterative solution mechanism is generally applicable to a variety of cases, as we will see.\r\n"
      ]
    },
    {
      "cell_type": "markdown",
      "metadata": {
        "id": "th2YO-Cb-zNo"
      },
      "source": [
        "### Monte Carlo Part A\r\n",
        "\r\n",
        "> The first part of our Monte Carlo presentation showed us how the situation changes when we do not have a model (i.e., p). In this case, there is no chance of an analytical synthesis method, and we must employ an iterative approach that is structurally aligned with what we did for DynProg.\r\n",
        "> \r\n",
        "> Monte Carlo methods, in general, are rooted in the idea that we can sample a phenomenon of interest many times, and average the returns to obtain meaningful data. In the context of Reinforcement Learning, we are sampling E's rewards, and averaging them, to estimate the return, and hence the value function. We presented how to do this to solve the policy evaluation (Eval) problem.\r\n",
        "> \r\n",
        "> Policy improvement (Impr) of course relies on a value function to improve policy pi\\_k to pi\\_{k+1}. Since we don't have access to the transition dynamics, p, of E, V\\_pi\\_k is not of much use in Impr. Rather, we need Q\\_pi\\_k so that we can derive the improved policy such that at state s, it choses action a=argmax\\_a Q\\_pi\\_k(s, a). So here we see how Q and V are distinct.\r\n",
        "> \r\n",
        "> We also see, with Monte Carlo, how the notion of RL being a paradigm for control of unknown environments where the agent \"learns through experience\". Monte Carlo methods are based on random sampling of a phenomenon and computation of averages to learn about the efficacy of the agent's action selection policy (i.e., learn the value functions).\r\n",
        "> \r\n",
        "> We also obtain our motivation for stochastic policies at this point. Since we are learning an action value function (state-action value function, Q(s, a)), we must sample the entire space of the domain, i.e. S x A. That is, our agent must -- to learn effectively -- experience the full domain, S x A. In other words, pi(s, a) > 0 for all s, for all a \\\\in A(s) --- all actions that are possible, must have a non-zero probability of being chosen. This is only possible with a stochastic policy.\r\n",
        "> \r\n",
        "> One can also pose the requirement as Monte Carlo (to this point) expects exploring states in the set of episodes that it has to learn from. This means that the episodes must have sufficient coverage of all (s, a) pairs. This is a very onerous requirement; the stochastic policy is far more reasonable comparatively. This leads us to part B of MC. But for now, regardless of these requirements, we can see that we have the elements of a \"learning-by-experience\" AI, with no \"magical thinking\" (i.e., no appeal to undefined, amorphous concepts) required. Nice!\r\n"
      ]
    },
    {
      "cell_type": "markdown",
      "metadata": {
        "id": "ejj2A1Ip-zcY"
      },
      "source": [
        "#### Exercises\r\n",
        "\r\n",
        "> 1\\. Explain clearly why V\\_pi is not useful in the MC development above?\r\n",
        "> \r\n",
        "\r\n",
        "$V_\\pi(s)$ is a function that maps each state to a value given a specific policy $\\pi$. In the on-policy MC development, $\\pi$ does not keep track of the optimal policy but rather also includes an $\\epsilon$-soft component to encourage random exploration. Therefore the $V_\\pi(s)$ is not useful since it does not accurate represent the value of the state. In fact, in off-policy MC, the policy to generate exploratory experiences is completely separated from the actual policy, which means $V_\\pi(s)$ does not indicate the actual value of the state.\r\n",
        "\r\n",
        "> 2\\. The MC algorithm so far (ref: p 99), requires an infinite number of episodes for Eval to converge on Q\\_pi\\_k (step k). We can modify this algorithm to the practical variant where Eval is truncated (c.f., DynProg GPI). In this case:\r\n",
        "> \r\n",
        "> a. Will we obtain Q\\_pi\\_k from eval?\r\n",
        "> \r\n",
        "\r\n",
        "\r\n",
        "\r\n",
        "> b. If not why are we able to truncate Eval? Explain clearly.\r\n",
        "> \r\n",
        "\r\n",
        "\r\n",
        "> c. Assuming ES (i.e., thorough sampling of the S x A space), and the above truncated Eval\\_trunc, is it possible to converge on a sub-optimal policy pi\\_c? Is this a stable fixed point of the GPI for MC? Explain clearly.\r\n",
        "> \r\n",
        "\r\n",
        "\r\n",
        "> 3\\. Explain how you can synthesize a stochastic policy given what you know so far (you don't need to read ahead).\r\n",
        "\r\n",
        "One possible stochastic policy is to assign at least an $\\epsilon>0$ probability for all state-action pairs such that all $(s, a)\\in S\\times A$ have a finite probability to be sampled."
      ]
    },
    {
      "cell_type": "markdown",
      "metadata": {
        "id": "GvBTGvrG-zmF"
      },
      "source": [
        "### Monte Carlo Part B-1: Stochastic Policies\r\n",
        "\r\n",
        "> Let's remove the requirement for the exploring starts requirement. The straightforward way to do this is to resort to what we mentioned above -- stochastic policies. Let's make this introduction of \"randomness\" concrete and purposeful. In a state s, we have a set of actions, A(s), that the action can take. We also have the greedy action, a = argmax\\_a(Q(s, a)). We now allow all actions to be selected with some epsilon probability, but bias in favor of selecting the greedy action. We select all actions with some probability epsilon/|A(s)| (where |A(s)| is the size of the set A(s)), while selecting the greedy action with probability 1-epsilon + epsilon/|A(s)|. You can clearly see that this scheme extends to cases when multiple equiprobable greedy actions exist.\r\n",
        "> \r\n",
        "> This scheme of formulating a stochastic policy, the epsilon-soft policy, can be used to find a quasi-optimal policy, without the onerous requirements of exploring starts. A good result, that makes MC more practical.\r\n",
        "\r\n"
      ]
    },
    {
      "cell_type": "markdown",
      "metadata": {
        "id": "7nARxsm9-zoU"
      },
      "source": [
        "### Monte Carlo Part B-2: Off Policy Methods\r\n",
        "\r\n",
        "#### On Policy Methods\r\n",
        "\r\n",
        "> The final element of this topic is the notion of on and off policy learning. On Policy learning is what we've been doing so far, and is a special case of Off Policy, as we'll see soon. In On Policy learning, we are executing GPI to identify the optimal control policy, pi\\_\\*, and we're using the instantaneous policy, pi\\_k, as the behaviour generation policy.\r\n",
        "> \r\n",
        "> We should realize, however, that there is a conflict in the above. Let's say we start with a stochastic initial policy, pi\\_0 (recall, we know at least one means to obtain this). We can see that as the GPI iteration proceeds through the interleaved iteration of Eval\\_trunc and Impr, we will get better and better policies.\r\n",
        "> \r\n",
        "> Now, on the one hand these better policies -- **to be useful for control** (i.e., our ultimate goal) -- must be progressively more strongly deterministic (barring ties, which introduce the only necessary randomness, if we have no deterministic way to break the tie).\r\n",
        "> \r\n",
        "> On the other hand, however, these policies -- **to be useful for evaluation** (our sub-goal GPI) -- must be effective samplers (\"explorers\") of the S x A space, which suggests randomness (specifically, for all s, pi(s, a) > 0 for all a \\\\in A(s)). Recall: we need evaluation to succeed, because it is the foundation for greedy improvement.\r\n",
        "> \r\n",
        "> This is a very real problem that must be addressed, which we'll do by generalizing to the use of two policies.\r\n"
      ]
    },
    {
      "cell_type": "markdown",
      "metadata": {
        "id": "s04ACdu7-zrE"
      },
      "source": [
        "#### Off Policy Methods\r\n",
        "\r\n",
        "> In the general case of off-policy learning we have two policies of interest, pi and b. Pi is the policy we are trying to solve for in GPI -- the optimal policy that will allow our agent to control the environment optimally. Policy b is a behaviour generation (\"exploratory\") policy: it has, as per the argument so far, freedom to sample the SxA space due to its stochastic nature. Policy b is perfectly suited to its job: allowing M to sample E as required to, in a monte carlo sense, estimate Q\\_b. Policy pi gets refined (improved) using this Q\\_b. But how can we improve policy pi using the Q from another policy b?\r\n",
        "> \r\n",
        "> Clearly we must have some constraints on pi and b; that constraint is that of _coverage_. Policy b must cover pi, which means that in a state s, pi(a|s) > 0 => b(a|s) > 0. That is, actions taken under pi must also be taken under b. Policy b is thus free to be stochastic and exploratory, given that it is guaranteed to take actions of pi.\r\n",
        "> \r\n",
        "> In (5.3) and (5.4) we see that there is a scaling factor that will relate the value functions computed via b and that of pi. This is an excellent result that enables the use of Off Policy methods: we can indeed look at one policies behaviour in order to optimize another (closely related, per _coverage_) policy. This is the fundamental lesson of section 5.5 in the textbook. The textbook shows two strategies of obtaining the required ratio relating the returns from b vs those of pi: ordinary importance sampling (5.3) and weighted importance sampling (5.6). For this course, it is not important to understand the theoretical foundations for these (largely because it is an area of research for MC, which is out of scope): you must understand how to compute these different ratios, operationally, in an algorithms.\r\n",
        "> \r\n",
        "> Further to the goal of computation (our goal in this course), the textbook in section 5.6 covers recursive formulations of the computation of an average. We must remember that with RL (in contrast to supervised learning that you may have encouraged in the past; if you haven't it is fine, it is not necessary for this course) training is _on-line_. That is, we are learning from experience, i.e., learning _while_ in contact with the environment. (One may also consider simulation-oriented training but even with simulations, the agent is still operating as if it is coupled to the problem space, and learning on-line).\r\n",
        "> \r\n",
        "> Hence, we must be able to compute averages on a sample-by-sample basis, versus the bulk computation that we're normally accustomed to. Section 5.6 presents this incremental computation of the average, and p 110 shows the algorithm for MC Off Policy prediction.\r\n",
        "> \r\n",
        "> With this, we can, as we did for all prior cases, obtain the GPI algorithm for MC Off Policy control on p 111 (of section 5.7).\r\n"
      ]
    },
    {
      "cell_type": "markdown",
      "metadata": {
        "id": "PKaKcZt4-zts"
      },
      "source": [
        "#### Comments\r\n",
        "\r\n",
        "> MC learning has many open issues that require theoretical justification, that are still an open area of research. It represents the opposite case to Dynamic Programming in many respects. Clearly with DynProg, we had p() while with MC we don't. Beyond this, the solution of DynProg refined old estimates to form new estimates of V or Q; this is called _bootstrapping._ This is _not_ the case with MC. With MC, our evaluation is based on the episodes, and is not based directly on refining a prior estimate of the value function (justify this, by looking at the computation of the Q estimates). This makes the algorithm more amenable to efficient computation _and_ also makes it less sensitive to E's violations of the Markov property. Skip 5.8 and 5.9, and read 5.10.\r\n",
        "> \r\n",
        "> Exercise:\r\n",
        "> \r\n",
        "> Code the algorithm for MC Control (Off Policy) and apply this to the Cart Pole problem. You must discretize the environmental feedback (S) in order to solve this problem properly.\r\n"
      ]
    },
    {
      "cell_type": "code",
      "metadata": {
        "id": "SdWErCtdL9Wz",
        "colab": {
          "base_uri": "https://localhost:8080/"
        },
        "outputId": "33fed0dc-0edf-4fdf-c9be-c9a738621490"
      },
      "source": [
        "#%% Boilerplate setup\r\n",
        "\r\n",
        "import gym, numpy as np, matplotlib.pyplot as plt\r\n",
        "def test_cart_pole(policy_fun, env=gym.make(\"CartPole-v0\"), \r\n",
        "                   max_iter=1000, print_iter=False):\r\n",
        "    \"\"\"\r\n",
        "    Test the policy against the environment\r\n",
        "\r\n",
        "    Parameters\r\n",
        "    ------------------\r\n",
        "    policy_fun : function\r\n",
        "        A funtion that takes the observations tuple from the CartPole \r\n",
        "        environment and returns a valid action of the environment\r\n",
        "\r\n",
        "    Yields\r\n",
        "    ------\r\n",
        "    action, obs, reward, done, info\r\n",
        "        Information for the current iteration and its results\r\n",
        "    \"\"\"\r\n",
        "    obs = env.reset()\r\n",
        "    for i in range(max_iter):\r\n",
        "        action = policy_fun(obs)\r\n",
        "        next_obs, reward, done, info = env.step(action)\r\n",
        "        if print_iter:\r\n",
        "            print(f\"State[{i}]={np.array2string(obs, precision=2, suppress_small=True)}, Action[{i}]={action}, Reward[{i+1}]={reward}\")\r\n",
        "        yield action, obs, reward, done, info\r\n",
        "        obs = next_obs\r\n",
        "        if done:\r\n",
        "            if print_iter:\r\n",
        "                print(f\"State[{i+1}]={np.array2string(obs, precision=2, suppress_small=True)}\")\r\n",
        "            break\r\n",
        "    env.close(); \r\n",
        "    if print_iter:\r\n",
        "        print(\"Iterations that were run:\", i)\r\n",
        "\r\n",
        "# Test that the function works\r\n",
        "rng = np.random.RandomState(0)\r\n",
        "_ = list(test_cart_pole(lambda _: rng.randint(0, 2), print_iter=True))"
      ],
      "execution_count": 72,
      "outputs": [
        {
          "output_type": "stream",
          "text": [
            "State[0]=[ 0.03 -0.02 -0.04  0.02], Action[0]=0, Reward[1]=1.0\n",
            "State[1]=[ 0.03 -0.22 -0.04  0.3 ], Action[1]=1, Reward[2]=1.0\n",
            "State[2]=[ 0.02 -0.02 -0.03 -0.  ], Action[2]=1, Reward[3]=1.0\n",
            "State[3]=[ 0.02  0.17 -0.03 -0.31], Action[3]=0, Reward[4]=1.0\n",
            "State[4]=[ 0.03 -0.02 -0.04 -0.03], Action[4]=1, Reward[5]=1.0\n",
            "State[5]=[ 0.03  0.17 -0.04 -0.33], Action[5]=1, Reward[6]=1.0\n",
            "State[6]=[ 0.03  0.37 -0.05 -0.64], Action[6]=1, Reward[7]=1.0\n",
            "State[7]=[ 0.04  0.57 -0.06 -0.94], Action[7]=1, Reward[8]=1.0\n",
            "State[8]=[ 0.05  0.76 -0.08 -1.25], Action[8]=1, Reward[9]=1.0\n",
            "State[9]=[ 0.06  0.96 -0.1  -1.57], Action[9]=1, Reward[10]=1.0\n",
            "State[10]=[ 0.08  1.15 -0.14 -1.89], Action[10]=1, Reward[11]=1.0\n",
            "State[11]=[ 0.1   1.35 -0.17 -2.23], Action[11]=0, Reward[12]=1.0\n",
            "State[12]=[ 0.13  1.16 -0.22 -1.99]\n",
            "Iterations that were run: 11\n"
          ],
          "name": "stdout"
        }
      ]
    },
    {
      "cell_type": "code",
      "metadata": {
        "id": "PuYINVvKOq62"
      },
      "source": [
        "#%% Discretization of states\r\n",
        "\r\n",
        "\"\"\"\r\n",
        "Observation:\r\n",
        "    Type: Box(4)\r\n",
        "    Num     Observation               Min                     Max\r\n",
        "    0       Cart Position             -4.8                    4.8\r\n",
        "    1       Cart Velocity             -Inf                    Inf\r\n",
        "    2       Pole Angle                -0.418 rad (-24 deg)    0.418 rad (24 deg)\r\n",
        "    3       Pole Angular Velocity     -Inf                    Inf\r\n",
        "The episode ends when the pole is more than 15 degrees from vertical, \r\n",
        "or the cart moves more than 2.4 units from the center.\r\n",
        "\"\"\"\r\n",
        "\r\n",
        "bin_divide = [\r\n",
        "        np.linspace(-2.3, +2.3, 5),\r\n",
        "        np.linspace(-1.0, +1.0, 5),\r\n",
        "        np.linspace(-0.20, +0.20, 5),\r\n",
        "        np.linspace(-1.0, +1.0, 5),\r\n",
        "        ]\r\n",
        "multiplier = 6**np.arange(4)\r\n",
        "def obs2state(obs):\r\n",
        "    \"\"\"\r\n",
        "    Discretize observations to states\r\n",
        "    \"\"\"\r\n",
        "    digitized = [np.digitize(o, bins) for o, bins in zip(obs, bin_divide)]\r\n",
        "    return (digitized * multiplier).sum()\r\n",
        "    # return ((obs > 0) * 2**np.arange(len(obs))).sum()\r\n",
        "    # return sum(np.digitize(o, bins) * (2**i) for i, (o, bins) in enumerate(zip(obs, bin_divide)))\r\n",
        "obs2state.S = 6**4 # 8**len(obs)"
      ],
      "execution_count": 177,
      "outputs": []
    },
    {
      "cell_type": "code",
      "metadata": {
        "id": "vduwwBlIRhP0"
      },
      "source": [
        "def init_random_policy(eps, S, A, rng):\r\n",
        "    \"\"\"\r\n",
        "    Generate a random eps-soft policy\r\n",
        "    \"\"\"\r\n",
        "    pi_random_init = rng.random([S, A])\r\n",
        "    pi_random_mask = np.zeros_like(pi_random_init, dtype=np.float)\r\n",
        "    pi_random_mask[np.arange(S), np.argmax(pi_random_init, axis=1)] = True\r\n",
        "    pi = pi_random_mask * (1 - eps) + eps / A\r\n",
        "    return pi\r\n",
        "\r\n",
        "def get_eps_soft_policy(pi, S, A, eps):\r\n",
        "    assert pi.ndim == 1\r\n",
        "    ret = np.full((S, A), fill_value=1.0*eps/A)\r\n",
        "    ret[np.arange(num_S), pi] += 1 - eps\r\n",
        "    # for i, a in enumerate(pi):\r\n",
        "        # ret[i, a] += 1 - eps\r\n",
        "    return ret"
      ],
      "execution_count": 140,
      "outputs": []
    },
    {
      "cell_type": "code",
      "metadata": {
        "colab": {
          "base_uri": "https://localhost:8080/"
        },
        "id": "T3knchHBPecK",
        "outputId": "8b479e18-9609-4efd-f79f-ac9495190bbc"
      },
      "source": [
        "#%% Off-policy solution\r\n",
        "# Based on page 111\r\n",
        "\r\n",
        "eps=0.02\r\n",
        "gamma=0.999\r\n",
        "env=gym.make(\"CartPole-v0\")\r\n",
        "rng=np.random.RandomState(0)\r\n",
        "num_A = env.action_space.n\r\n",
        "action_space = np.arange(num_A)\r\n",
        "num_S = obs2state.S\r\n",
        "state_space = np.arange(num_S)\r\n",
        "\r\n",
        "# Initialize\r\n",
        "Q = rng.random([num_S, num_A])\r\n",
        "C = np.zeros([num_S, num_A])\r\n",
        "pi = np.argmax(Q, axis=1)\r\n",
        "\r\n",
        "T_history = []\r\n",
        "for i in range(10000):\r\n",
        "    if i % 100 == 0:\r\n",
        "        iters = len(list(test_cart_pole(lambda obs: pi[obs2state(obs)], print_iter=False)))\r\n",
        "        print(f\"Learning iter {i}, off-policy average {np.mean(T_history[-100:])}, greedy policy lasted {iters} iterations\")\r\n",
        "\r\n",
        "    # b <- any soft policy\r\n",
        "    b = get_eps_soft_policy(pi, num_S, num_A, eps) # rng.random([num_S, num_A]) # init_random_policy(eps, num_S, num_A, rng)\r\n",
        "    # Generate an episode\r\n",
        "    actions, obses, rewards, dones, infos = zip(\r\n",
        "        *test_cart_pole(\r\n",
        "            lambda obs: rng.choice(action_space, p=b[obs2state(obs)])\r\n",
        "        )\r\n",
        "    )\r\n",
        "    # Compatibility with textbook notation\r\n",
        "    R = np.array([None] + list(rewards))\r\n",
        "    S = np.array([obs2state(i) for i in obses])\r\n",
        "    A = np.array(actions)\r\n",
        "\r\n",
        "    G = 0\r\n",
        "    W = 1\r\n",
        "    T = len(actions)\r\n",
        "    T_history.append(T)\r\n",
        "    for t in range(T-1, -1, -1):\r\n",
        "        G = gamma * G + R[t+1]\r\n",
        "        C[S[t], A[t]] = C[S[t], A[t]] + W\r\n",
        "        Q[S[t], A[t]] = (Q[S[t], A[t]] + \r\n",
        "                         W / C[S[t], A[t]] * (G - Q[S[t], A[t]]))\r\n",
        "        pi = np.argmax(Q, axis=1)\r\n",
        "        if A[t] != pi[S[t]]:\r\n",
        "            # then exit inner loop (proceed to next episode)\r\n",
        "            # print(\"exiting inner loop\")\r\n",
        "            break\r\n",
        "        # print(\"continuing inner loop\")\r\n",
        "        W = W * 1.0 / b[S[t], A[t]]\r\n",
        "    # break\r\n",
        "\r\n"
      ],
      "execution_count": 178,
      "outputs": [
        {
          "output_type": "stream",
          "text": [
            "/usr/local/lib/python3.6/dist-packages/numpy/core/fromnumeric.py:3373: RuntimeWarning: Mean of empty slice.\n",
            "  out=out, **kwargs)\n",
            "/usr/local/lib/python3.6/dist-packages/numpy/core/_methods.py:170: RuntimeWarning: invalid value encountered in double_scalars\n",
            "  ret = ret.dtype.type(ret / rcount)\n"
          ],
          "name": "stderr"
        },
        {
          "output_type": "stream",
          "text": [
            "Learning iter 0, off-policy average nan, greedy policy lasted 38 iterations\n",
            "Learning iter 100, off-policy average 46.44, greedy policy lasted 194 iterations\n",
            "Learning iter 200, off-policy average 49.46, greedy policy lasted 131 iterations\n",
            "Learning iter 300, off-policy average 57.24, greedy policy lasted 79 iterations\n",
            "Learning iter 400, off-policy average 54.31, greedy policy lasted 131 iterations\n",
            "Learning iter 500, off-policy average 69.74, greedy policy lasted 154 iterations\n",
            "Learning iter 600, off-policy average 89.32, greedy policy lasted 45 iterations\n",
            "Learning iter 700, off-policy average 71.89, greedy policy lasted 39 iterations\n",
            "Learning iter 800, off-policy average 61.66, greedy policy lasted 80 iterations\n",
            "Learning iter 900, off-policy average 61.54, greedy policy lasted 64 iterations\n",
            "Learning iter 1000, off-policy average 71.77, greedy policy lasted 200 iterations\n",
            "Learning iter 1100, off-policy average 80.8, greedy policy lasted 37 iterations\n",
            "Learning iter 1200, off-policy average 84.23, greedy policy lasted 16 iterations\n",
            "Learning iter 1300, off-policy average 73.96, greedy policy lasted 26 iterations\n",
            "Learning iter 1400, off-policy average 70.27, greedy policy lasted 169 iterations\n",
            "Learning iter 1500, off-policy average 131.16, greedy policy lasted 49 iterations\n",
            "Learning iter 1600, off-policy average 111.39, greedy policy lasted 16 iterations\n",
            "Learning iter 1700, off-policy average 117.2, greedy policy lasted 200 iterations\n",
            "Learning iter 1800, off-policy average 126.35, greedy policy lasted 16 iterations\n",
            "Learning iter 1900, off-policy average 119.34, greedy policy lasted 46 iterations\n",
            "Learning iter 2000, off-policy average 141.66, greedy policy lasted 53 iterations\n",
            "Learning iter 2100, off-policy average 142.53, greedy policy lasted 84 iterations\n",
            "Learning iter 2200, off-policy average 164.01, greedy policy lasted 57 iterations\n",
            "Learning iter 2300, off-policy average 156.14, greedy policy lasted 158 iterations\n",
            "Learning iter 2400, off-policy average 151.59, greedy policy lasted 200 iterations\n",
            "Learning iter 2500, off-policy average 157.94, greedy policy lasted 200 iterations\n",
            "Learning iter 2600, off-policy average 161.77, greedy policy lasted 42 iterations\n",
            "Learning iter 2700, off-policy average 161.23, greedy policy lasted 188 iterations\n",
            "Learning iter 2800, off-policy average 167.03, greedy policy lasted 200 iterations\n",
            "Learning iter 2900, off-policy average 163.42, greedy policy lasted 200 iterations\n",
            "Learning iter 3000, off-policy average 164.15, greedy policy lasted 200 iterations\n",
            "Learning iter 3100, off-policy average 164.88, greedy policy lasted 200 iterations\n",
            "Learning iter 3200, off-policy average 161.15, greedy policy lasted 59 iterations\n",
            "Learning iter 3300, off-policy average 164.49, greedy policy lasted 20 iterations\n",
            "Learning iter 3400, off-policy average 175.25, greedy policy lasted 200 iterations\n",
            "Learning iter 3500, off-policy average 169.19, greedy policy lasted 186 iterations\n",
            "Learning iter 3600, off-policy average 156.11, greedy policy lasted 200 iterations\n",
            "Learning iter 3700, off-policy average 186.1, greedy policy lasted 200 iterations\n",
            "Learning iter 3800, off-policy average 186.32, greedy policy lasted 200 iterations\n",
            "Learning iter 3900, off-policy average 191.72, greedy policy lasted 200 iterations\n",
            "Learning iter 4000, off-policy average 190.36, greedy policy lasted 200 iterations\n",
            "Learning iter 4100, off-policy average 188.84, greedy policy lasted 200 iterations\n",
            "Learning iter 4200, off-policy average 192.76, greedy policy lasted 169 iterations\n",
            "Learning iter 4300, off-policy average 188.98, greedy policy lasted 200 iterations\n",
            "Learning iter 4400, off-policy average 193.91, greedy policy lasted 200 iterations\n",
            "Learning iter 4500, off-policy average 192.12, greedy policy lasted 190 iterations\n",
            "Learning iter 4600, off-policy average 194.61, greedy policy lasted 200 iterations\n",
            "Learning iter 4700, off-policy average 189.86, greedy policy lasted 200 iterations\n",
            "Learning iter 4800, off-policy average 197.18, greedy policy lasted 186 iterations\n",
            "Learning iter 4900, off-policy average 194.76, greedy policy lasted 200 iterations\n",
            "Learning iter 5000, off-policy average 195.56, greedy policy lasted 157 iterations\n",
            "Learning iter 5100, off-policy average 194.01, greedy policy lasted 184 iterations\n",
            "Learning iter 5200, off-policy average 198.17, greedy policy lasted 200 iterations\n",
            "Learning iter 5300, off-policy average 193.46, greedy policy lasted 200 iterations\n",
            "Learning iter 5400, off-policy average 194.08, greedy policy lasted 200 iterations\n",
            "Learning iter 5500, off-policy average 191.27, greedy policy lasted 200 iterations\n",
            "Learning iter 5600, off-policy average 193.68, greedy policy lasted 200 iterations\n",
            "Learning iter 5700, off-policy average 193.12, greedy policy lasted 200 iterations\n",
            "Learning iter 5800, off-policy average 195.82, greedy policy lasted 200 iterations\n",
            "Learning iter 5900, off-policy average 195.84, greedy policy lasted 200 iterations\n",
            "Learning iter 6000, off-policy average 190.94, greedy policy lasted 200 iterations\n",
            "Learning iter 6100, off-policy average 191.94, greedy policy lasted 200 iterations\n",
            "Learning iter 6200, off-policy average 181.42, greedy policy lasted 200 iterations\n",
            "Learning iter 6300, off-policy average 185.48, greedy policy lasted 200 iterations\n",
            "Learning iter 6400, off-policy average 192.84, greedy policy lasted 200 iterations\n",
            "Learning iter 6500, off-policy average 186.43, greedy policy lasted 200 iterations\n",
            "Learning iter 6600, off-policy average 187.35, greedy policy lasted 200 iterations\n",
            "Learning iter 6700, off-policy average 185.11, greedy policy lasted 200 iterations\n",
            "Learning iter 6800, off-policy average 184.65, greedy policy lasted 161 iterations\n",
            "Learning iter 6900, off-policy average 192.68, greedy policy lasted 200 iterations\n",
            "Learning iter 7000, off-policy average 181.07, greedy policy lasted 200 iterations\n",
            "Learning iter 7100, off-policy average 184.89, greedy policy lasted 200 iterations\n",
            "Learning iter 7200, off-policy average 184.68, greedy policy lasted 200 iterations\n",
            "Learning iter 7300, off-policy average 189.55, greedy policy lasted 200 iterations\n",
            "Learning iter 7400, off-policy average 191.24, greedy policy lasted 200 iterations\n",
            "Learning iter 7500, off-policy average 191.63, greedy policy lasted 200 iterations\n",
            "Learning iter 7600, off-policy average 182.2, greedy policy lasted 199 iterations\n",
            "Learning iter 7700, off-policy average 183.97, greedy policy lasted 200 iterations\n",
            "Learning iter 7800, off-policy average 181.07, greedy policy lasted 200 iterations\n",
            "Learning iter 7900, off-policy average 187.81, greedy policy lasted 200 iterations\n",
            "Learning iter 8000, off-policy average 190.35, greedy policy lasted 200 iterations\n",
            "Learning iter 8100, off-policy average 182.18, greedy policy lasted 200 iterations\n",
            "Learning iter 8200, off-policy average 178.84, greedy policy lasted 200 iterations\n",
            "Learning iter 8300, off-policy average 184.63, greedy policy lasted 200 iterations\n",
            "Learning iter 8400, off-policy average 185.71, greedy policy lasted 200 iterations\n",
            "Learning iter 8500, off-policy average 190.53, greedy policy lasted 200 iterations\n",
            "Learning iter 8600, off-policy average 189.82, greedy policy lasted 200 iterations\n",
            "Learning iter 8700, off-policy average 183.79, greedy policy lasted 133 iterations\n",
            "Learning iter 8800, off-policy average 193.13, greedy policy lasted 200 iterations\n",
            "Learning iter 8900, off-policy average 193.97, greedy policy lasted 174 iterations\n",
            "Learning iter 9000, off-policy average 185.63, greedy policy lasted 200 iterations\n",
            "Learning iter 9100, off-policy average 187.32, greedy policy lasted 200 iterations\n",
            "Learning iter 9200, off-policy average 192.8, greedy policy lasted 200 iterations\n",
            "Learning iter 9300, off-policy average 186.92, greedy policy lasted 127 iterations\n",
            "Learning iter 9400, off-policy average 189.48, greedy policy lasted 188 iterations\n",
            "Learning iter 9500, off-policy average 194.84, greedy policy lasted 200 iterations\n",
            "Learning iter 9600, off-policy average 186.69, greedy policy lasted 200 iterations\n",
            "Learning iter 9700, off-policy average 188.06, greedy policy lasted 57 iterations\n",
            "Learning iter 9800, off-policy average 181.99, greedy policy lasted 200 iterations\n",
            "Learning iter 9900, off-policy average 188.57, greedy policy lasted 197 iterations\n"
          ],
          "name": "stdout"
        }
      ]
    },
    {
      "cell_type": "code",
      "metadata": {
        "colab": {
          "base_uri": "https://localhost:8080/",
          "height": 312
        },
        "id": "ovpgOPMJa2wF",
        "outputId": "3f294c3c-03fd-43b0-e8ff-e2d89947821c"
      },
      "source": [
        "import matplotlib.pyplot as plt\n",
        "plt.plot(T_history, '.', markersize=1)\n",
        "plt.title(\"Performance of soft off-policy during training\")\n",
        "plt.xlabel(\"Learning Iteration\")\n",
        "plt.ylabel(\"Training Episode Lasted Iterations\")"
      ],
      "execution_count": 179,
      "outputs": [
        {
          "output_type": "execute_result",
          "data": {
            "text/plain": [
              "Text(0, 0.5, 'Training Episode Lasted Iterations')"
            ]
          },
          "metadata": {
            "tags": []
          },
          "execution_count": 179
        },
        {
          "output_type": "display_data",
          "data": {
            "image/png": "[encoded data removed]",
            "text/plain": [
              "<Figure size 432x288 with 1 Axes>"
            ]
          },
          "metadata": {
            "tags": [],
            "needs_background": "light"
          }
        }
      ]
    },
    {
      "cell_type": "code",
      "metadata": {
        "colab": {
          "base_uri": "https://localhost:8080/"
        },
        "id": "gy44miD2WChz",
        "outputId": "d207d27b-d29b-48e7-a2a5-d8ddb7c802eb"
      },
      "source": [
        "for i in range(10):\n",
        "    data = list(test_cart_pole(lambda obs: pi[obs2state(obs)], print_iter=False))\n",
        "    iters = len(data)\n",
        "    print(f\"Testing iter {i}, lasted {iters} iterations\")\n",
        "    if iters < 150:\n",
        "        for i in data:\n",
        "            print(i)"
      ],
      "execution_count": 180,
      "outputs": [
        {
          "output_type": "stream",
          "text": [
            "Testing iter 0, lasted 25 iterations\n",
            "(0, array([-0.00662732,  0.03999087,  0.01368441,  0.00471999]), 1.0, False, {})\n",
            "(1, array([-0.0058275 , -0.15532463,  0.01377881,  0.3016889 ]), 1.0, False, {})\n",
            "(0, array([-0.00893399,  0.03959825,  0.01981259,  0.01338317]), 1.0, False, {})\n",
            "(1, array([-0.00814203, -0.15580215,  0.02008025,  0.31225077]), 1.0, False, {})\n",
            "(0, array([-0.01125807,  0.03902806,  0.02632527,  0.02596757]), 1.0, False, {})\n",
            "(1, array([-0.01047751, -0.15646133,  0.02684462,  0.32683879]), 1.0, False, {})\n",
            "(0, array([-0.01360674,  0.03826834,  0.03338139,  0.04274088]), 1.0, False, {})\n",
            "(1, array([-0.01284137, -0.15731599,  0.03423621,  0.34576625]), 1.0, False, {})\n",
            "(0, array([-0.01598769,  0.03730266,  0.04115154,  0.06407283]), 1.0, False, {})\n",
            "(1, array([-0.01524164, -0.1583844 ,  0.04243299,  0.36945005]), 1.0, False, {})\n",
            "(0, array([-0.01840932,  0.03610977,  0.04982199,  0.09044296]), 1.0, False, {})\n",
            "(1, array([-0.01768713, -0.15968959,  0.05163085,  0.39841917]), 1.0, False, {})\n",
            "(0, array([-0.02088092,  0.03466333,  0.05959924,  0.122451  ]), 1.0, False, {})\n",
            "(1, array([-0.02018765, -0.16125961,  0.06204826,  0.43332542]), 1.0, False, {})\n",
            "(0, array([-0.02341285,  0.03293149,  0.07071476,  0.1608298 ]), 1.0, False, {})\n",
            "(1, array([-0.02275422, -0.16312784,  0.07393136,  0.47495661]), 1.0, False, {})\n",
            "(0, array([-0.02601677,  0.0308765 ,  0.08343049,  0.20646107]), 1.0, False, {})\n",
            "(1, array([-0.02539924, -0.16533326,  0.08755971,  0.5242521 ]), 1.0, False, {})\n",
            "(0, array([-0.02870591,  0.02845438,  0.09804476,  0.26039389]), 1.0, False, {})\n",
            "(0, array([-0.02813682, -0.16792052,  0.10325263,  0.5823206 ]), 1.0, False, {})\n",
            "(0, array([-0.03149523, -0.364326  ,  0.11489905,  0.90566215]), 1.0, False, {})\n",
            "(1, array([-0.03878175, -0.56080061,  0.13301229,  1.23213688]), 1.0, False, {})\n",
            "(0, array([-0.04999776, -0.36761602,  0.15765503,  0.98391002]), 1.0, False, {})\n",
            "(1, array([-0.05735008, -0.56445837,  0.17733323,  1.32167056]), 1.0, False, {})\n",
            "(0, array([-0.06863925, -0.37196433,  0.20376664,  1.08932078]), 1.0, True, {})\n",
            "Testing iter 1, lasted 200 iterations\n",
            "Testing iter 2, lasted 189 iterations\n",
            "Testing iter 3, lasted 200 iterations\n",
            "Testing iter 4, lasted 200 iterations\n",
            "Testing iter 5, lasted 176 iterations\n",
            "Testing iter 6, lasted 200 iterations\n",
            "Testing iter 7, lasted 200 iterations\n",
            "Testing iter 8, lasted 200 iterations\n",
            "Testing iter 9, lasted 17 iterations\n",
            "(0, array([-0.02687706,  0.01456141,  0.04953727,  0.01898832]), 1.0, False, {})\n",
            "(1, array([-0.02658583, -0.18123467,  0.04991703,  0.32688016]), 1.0, False, {})\n",
            "(0, array([-0.03021052,  0.01314238,  0.05645464,  0.05034727]), 1.0, False, {})\n",
            "(1, array([-0.02994768, -0.18274172,  0.05746158,  0.36029417]), 1.0, False, {})\n",
            "(0, array([-0.03360251,  0.01151835,  0.06466747,  0.0862694 ]), 1.0, False, {})\n",
            "(1, array([-0.03337214, -0.18446809,  0.06639286,  0.39863356]), 1.0, False, {})\n",
            "(0, array([-0.03706151,  0.00965225,  0.07436553,  0.12759974]), 1.0, False, {})\n",
            "(1, array([-0.03686846, -0.18645189,  0.07691752,  0.44278628]), 1.0, False, {})\n",
            "(0, array([-0.0405975 ,  0.0075022 ,  0.08577325,  0.1753068 ]), 1.0, False, {})\n",
            "(1, array([-0.04044745, -0.1887359 ,  0.08927938,  0.49376823]), 1.0, False, {})\n",
            "(0, array([-0.04422217,  0.00502095,  0.09915475,  0.23050376]), 1.0, False, {})\n",
            "(0, array([-0.04412175, -0.19136777,  0.10376482,  0.55274367]), 1.0, False, {})\n",
            "(0, array([-0.04794911, -0.38778214,  0.1148197 ,  0.87623267]), 1.0, False, {})\n",
            "(1, array([-0.05570475, -0.58426182,  0.13234435,  1.20269446]), 1.0, False, {})\n",
            "(0, array([-0.06738999, -0.39107572,  0.15639824,  0.95424511]), 1.0, False, {})\n",
            "(1, array([-0.0752115 , -0.58791644,  0.17548314,  1.29169629]), 1.0, False, {})\n",
            "(0, array([-0.08696983, -0.39540498,  0.20131707,  1.05869156]), 1.0, True, {})\n"
          ],
          "name": "stdout"
        }
      ]
    },
    {
      "cell_type": "markdown",
      "metadata": {
        "id": "ybFWr-BA-zwf"
      },
      "source": [
        "> (Optional)\r\n",
        "> \r\n",
        "> Explore the OpenAI gyms that are available, and find a discrete environment, and employ your MC control algorithm for it.\r\n"
      ]
    },
    {
      "cell_type": "markdown",
      "metadata": {
        "id": "6L1jlxKb-zyn"
      },
      "source": [
        "> The goal of this assignment is to ensure you understand the underlying algorithms of MC control, as distinct from DynProg. Start early and ask questions. The goal is to prepare you for the test: the test will stress the concepts. The assignment will generate working knowledge for these concepts, complementing and reinforcing your theoretical/conceptual knowledge.\r\n",
        "> \r\n",
        "> Submit the code via a file called assignment.py; if you choose to do the optional work, submit it as optional.py.\r\n",
        "> \r\n",
        "> Answer the exercise questions above, and show logs from your code showing how long your solver can keep the pole balanced; the goal is clearly to balance it indefinitely (say for 10,000 steps). This should be submitted as a pdf: assignment.pdf. If you do optional, submit the logs as optional.pdf. For any logs, you must be very clear and explain what you are showing, and what it means. Just submitting a raw log with no comments or explanation is insufficient and can not be properly graded.\r\n",
        "> \r\n",
        "> This assignment can be done within a week, however, I have given you a penalty-free extension as noted. No requests for extensions will be entertained."
      ]
    },
    {
      "cell_type": "markdown",
      "metadata": {
        "id": "dqwQMwPZ-z05"
      },
      "source": [
        ""
      ]
    }
  ]
}