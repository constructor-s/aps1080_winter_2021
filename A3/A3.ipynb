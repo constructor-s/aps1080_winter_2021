{
  "nbformat": 4,
  "nbformat_minor": 0,
  "metadata": {
    "colab": {
      "name": "A3.ipynb",
      "provenance": [],
      "collapsed_sections": [],
      "authorship_tag": "ABX9TyPqM8qUl3N/irNDCAUhMv3d",
      "include_colab_link": true
    },
    "kernelspec": {
      "name": "python3",
      "display_name": "Python 3"
    }
  },
  "cells": [
    {
      "cell_type": "markdown",
      "metadata": {
        "id": "view-in-github",
        "colab_type": "text"
      },
      "source": [
        "<a href=\"https://colab.research.google.com/github/constructor-s/aps1080_winter_2021/blob/main/A3/A3.ipynb\" target=\"_parent\"><img src=\"https://colab.research.google.com/assets/colab-badge.svg\" alt=\"Open In Colab\"/></a>"
      ]
    },
    {
      "cell_type": "markdown",
      "metadata": {
        "id": "yTlFXb7waZxn"
      },
      "source": [
        "A3: TD(n) and Mountain Car\r\n",
        "==========================\r\n",
        "\r\n",
        "Submit Assignment\r\n",
        "\r\n",
        "*   Due Tuesday by 11:59pm\r\n",
        "*   Points 100\r\n",
        "*   Submitting a file upload\r\n",
        "*   File Types pdf\r\n",
        "\r\n",
        "In this assignment we are going to apply the TD(n) methods to solve the Mountain Car problem.\r\n",
        "\r\n",
        "By now, you should know how to load OpenAI gym environments:\r\n",
        "\r\n",
        "env = gym.make('MountainCar-v0')\r\n",
        "\r\n"
      ]
    },
    {
      "cell_type": "code",
      "metadata": {
        "colab": {
          "base_uri": "https://localhost:8080/"
        },
        "id": "nUQRLkw6gi4R",
        "outputId": "3af49ab3-b2fc-40b6-e320-70097e88fcff"
      },
      "source": [
        "#%% Set up rendering\r\n",
        "\r\n",
        "!apt-get install -y xvfb python-opengl\r\n",
        "!pip install gym pyvirtualdisplay\r\n",
        "from pyvirtualdisplay import Display\r\n",
        "display = Display(visible=0, size=(100, 100))\r\n",
        "display.start()"
      ],
      "execution_count": 1,
      "outputs": [
        {
          "output_type": "stream",
          "text": [
            "Reading package lists... Done\n",
            "Building dependency tree       \n",
            "Reading state information... Done\n",
            "Suggested packages:\n",
            "  libgle3\n",
            "The following NEW packages will be installed:\n",
            "  python-opengl xvfb\n",
            "0 upgraded, 2 newly installed, 0 to remove and 29 not upgraded.\n",
            "Need to get 1,280 kB of archives.\n",
            "After this operation, 7,686 kB of additional disk space will be used.\n",
            "Get:1 http://archive.ubuntu.com/ubuntu bionic/universe amd64 python-opengl all 3.1.0+dfsg-1 [496 kB]\n",
            "Get:2 http://archive.ubuntu.com/ubuntu bionic-updates/universe amd64 xvfb amd64 2:1.19.6-1ubuntu4.8 [784 kB]\n",
            "Fetched 1,280 kB in 1s (1,428 kB/s)\n",
            "Selecting previously unselected package python-opengl.\n",
            "(Reading database ... 160975 files and directories currently installed.)\n",
            "Preparing to unpack .../python-opengl_3.1.0+dfsg-1_all.deb ...\n",
            "Unpacking python-opengl (3.1.0+dfsg-1) ...\n",
            "Selecting previously unselected package xvfb.\n",
            "Preparing to unpack .../xvfb_2%3a1.19.6-1ubuntu4.8_amd64.deb ...\n",
            "Unpacking xvfb (2:1.19.6-1ubuntu4.8) ...\n",
            "Setting up python-opengl (3.1.0+dfsg-1) ...\n",
            "Setting up xvfb (2:1.19.6-1ubuntu4.8) ...\n",
            "Processing triggers for man-db (2.8.3-2ubuntu0.1) ...\n",
            "Requirement already satisfied: gym in /usr/local/lib/python3.7/dist-packages (0.17.3)\n",
            "Collecting pyvirtualdisplay\n",
            "  Downloading https://files.pythonhosted.org/packages/19/88/7a198a5ee3baa3d547f5a49574cd8c3913b216f5276b690b028f89ffb325/PyVirtualDisplay-2.1-py3-none-any.whl\n",
            "Requirement already satisfied: scipy in /usr/local/lib/python3.7/dist-packages (from gym) (1.4.1)\n",
            "Requirement already satisfied: cloudpickle<1.7.0,>=1.2.0 in /usr/local/lib/python3.7/dist-packages (from gym) (1.3.0)\n",
            "Requirement already satisfied: pyglet<=1.5.0,>=1.4.0 in /usr/local/lib/python3.7/dist-packages (from gym) (1.5.0)\n",
            "Requirement already satisfied: numpy>=1.10.4 in /usr/local/lib/python3.7/dist-packages (from gym) (1.19.5)\n",
            "Collecting EasyProcess\n",
            "  Downloading https://files.pythonhosted.org/packages/48/3c/75573613641c90c6d094059ac28adb748560d99bd27ee6f80cce398f404e/EasyProcess-0.3-py2.py3-none-any.whl\n",
            "Requirement already satisfied: future in /usr/local/lib/python3.7/dist-packages (from pyglet<=1.5.0,>=1.4.0->gym) (0.16.0)\n",
            "Installing collected packages: EasyProcess, pyvirtualdisplay\n",
            "Successfully installed EasyProcess-0.3 pyvirtualdisplay-2.1\n"
          ],
          "name": "stdout"
        },
        {
          "output_type": "execute_result",
          "data": {
            "text/plain": [
              "<pyvirtualdisplay.display.Display at 0x7f34467d6ad0>"
            ]
          },
          "metadata": {
            "tags": []
          },
          "execution_count": 1
        }
      ]
    },
    {
      "cell_type": "code",
      "metadata": {
        "id": "VrV67L1bbDxg"
      },
      "source": [
        "import gym\r\n",
        "import numpy as np\r\n",
        "import pandas as pd\r\n",
        "import matplotlib.pyplot as plt\r\n",
        "from collections import *\r\n",
        "from IPython.display import clear_output\r\n",
        "\r\n",
        "env = gym.make('MountainCar-v0')"
      ],
      "execution_count": 2,
      "outputs": []
    },
    {
      "cell_type": "markdown",
      "metadata": {
        "id": "iJ1-U7kXahHe"
      },
      "source": [
        "Exercise 1: Prelims\r\n",
        "-------------------\r\n",
        "\r\n",
        "These are useful exercises to develop facility with the environment prior to the graded component of the assignment. Explore the above environment as we've done in past assignments and exercises.\r\n",
        "\r\n",
        "Develop a MC controller and assess its performance.\r\n"
      ]
    },
    {
      "cell_type": "code",
      "metadata": {
        "colab": {
          "base_uri": "https://localhost:8080/",
          "height": 826
        },
        "id": "QvBn1AQnbe3q",
        "outputId": "da490758-ec65-40bb-ec75-6415376c6604"
      },
      "source": [
        "#%% Set up the environment\r\n",
        "\"\"\"\r\n",
        "Reference:\r\n",
        "\r\n",
        "Description:\r\n",
        "    The agent (a car) is started at the bottom of a valley. For any given\r\n",
        "    state the agent may choose to accelerate to the left, right or cease\r\n",
        "    any acceleration.\r\n",
        "Source:\r\n",
        "    The environment appeared first in Andrew Moore's PhD Thesis (1990).\r\n",
        "Observation:\r\n",
        "    Type: Box(2)\r\n",
        "    Num    Observation               Min            Max\r\n",
        "    0      Car Position              -1.2           0.6\r\n",
        "    1      Car Velocity              -0.07          0.07\r\n",
        "Actions:\r\n",
        "    Type: Discrete(3)\r\n",
        "    Num    Action\r\n",
        "    0      Accelerate to the Left\r\n",
        "    1      Don't accelerate\r\n",
        "    2      Accelerate to the Right\r\n",
        "    Note: This does not affect the amount of velocity affected by the\r\n",
        "    gravitational pull acting on the car.\r\n",
        "Reward:\r\n",
        "        Reward of 0 is awarded if the agent reached the flag (position = 0.5)\r\n",
        "        on top of the mountain.\r\n",
        "        Reward of -1 is awarded if the position of the agent is less than 0.5.\r\n",
        "Starting State:\r\n",
        "        The position of the car is assigned a uniform random value in\r\n",
        "        [-0.6 , -0.4].\r\n",
        "        The starting velocity of the car is always assigned to 0.\r\n",
        "Episode Termination:\r\n",
        "        The car position is more than 0.5\r\n",
        "        Episode length is greater than 200\r\n",
        "\"\"\"\r\n",
        "\r\n",
        "def obs2state(obs):\r\n",
        "    \"\"\"\r\n",
        "    Discretize observations to states\r\n",
        "    \"\"\"\r\n",
        "    digitized = [np.searchsorted(bins, o, \"right\") \r\n",
        "            for o, bins in zip(obs, obs2state.bin_divide)]\r\n",
        "    return (digitized * obs2state.multiplier).sum()\r\n",
        "obs2state.bin_divide = (\r\n",
        "        (-0.5, +0.0, +0.5),\r\n",
        "        (-0.05, +0.00, +0.05),\r\n",
        ")\r\n",
        "obs2state.multiplier = np.concatenate([[1], \r\n",
        "                    np.cumprod([len(i)+1 for i in obs2state.bin_divide[:-1]])])\r\n",
        "obs2state.S = np.product([len(i)+1 for i in obs2state.bin_divide])\r\n",
        "\r\n",
        "\r\n",
        "def run_env(policy_fun, # obs2state=obs2state, \r\n",
        "            env=gym.make('MountainCar-v0'), max_iter=1000, \r\n",
        "            debug=False, plot=False):\r\n",
        "    \"\"\"\r\n",
        "    Simulate episodes of the environment\r\n",
        "\r\n",
        "    Parameters\r\n",
        "    ------------------\r\n",
        "    policy_fun : function\r\n",
        "        A function that maps observation to valid action\r\n",
        "\r\n",
        "    Yields\r\n",
        "    ------------------\r\n",
        "    O_t, A_t, R_t+1, O_t+1, A_t+1, done\r\n",
        "        SARSA pairs. O is the observation.\r\n",
        "    \"\"\"\r\n",
        "    if plot:\r\n",
        "        fig, ax = plt.subplots(2, 5, figsize=(11, 8.5))\r\n",
        "    obs = env.reset() # ; s = obs2state(obs)\r\n",
        "    a = policy_fun(obs)\r\n",
        "    for i in range(max_iter):\r\n",
        "        next_obs, r, done, info = env.step(a) #; next_s = obs2state(next_obs)\r\n",
        "        next_a = policy_fun(next_obs)\r\n",
        "        yield obs, a, r, next_obs, next_a, done\r\n",
        "        if plot and i%20 == 19:\r\n",
        "            ax.ravel()[i // 20].imshow(env.render(mode='rgb_array'))\r\n",
        "            ax.ravel()[i // 20].set_title(\r\n",
        "                f\"Step {i}, obs =\\n{np.array2string(obs, precision=1)}\")\r\n",
        "        if debug and done:\r\n",
        "            print(f\"Observation at i = {i}: {obs}\")\r\n",
        "        obs, a = next_obs, next_a\r\n",
        "        if done:\r\n",
        "            if debug:\r\n",
        "                print(f\"Observation at terminal: {obs}\")\r\n",
        "            if plot:\r\n",
        "                ax.ravel()[-1].imshow(env.render(mode='rgb_array'))\r\n",
        "                ax.ravel()[-1].set_title(\r\n",
        "                    f\"Step {i}, obs =\\n{np.array2string(obs, precision=1)}\")\r\n",
        "            break\r\n",
        "    env.close()\r\n",
        "\r\n",
        "print(\"Generating a random episode:\")\r\n",
        "rng = np.random.RandomState(0)\r\n",
        "pd.DataFrame(run_env(lambda _: rng.randint(3), plot=True),\r\n",
        "             columns=[\"O_t\", \"A_t\", \"R_t+1\", \"O_t+1\", \"A_t+1\", \"done\"])"
      ],
      "execution_count": 15,
      "outputs": [
        {
          "output_type": "stream",
          "text": [
            "Generating a random episode:\n"
          ],
          "name": "stdout"
        },
        {
          "output_type": "execute_result",
          "data": {
            "text/html": [
              "<div>\n",
              "<style scoped>\n",
              "    .dataframe tbody tr th:only-of-type {\n",
              "        vertical-align: middle;\n",
              "    }\n",
              "\n",
              "    .dataframe tbody tr th {\n",
              "        vertical-align: top;\n",
              "    }\n",
              "\n",
              "    .dataframe thead th {\n",
              "        text-align: right;\n",
              "    }\n",
              "</style>\n",
              "<table border=\"1\" class=\"dataframe\">\n",
              "  <thead>\n",
              "    <tr style=\"text-align: right;\">\n",
              "      <th></th>\n",
              "      <th>O_t</th>\n",
              "      <th>A_t</th>\n",
              "      <th>R_t+1</th>\n",
              "      <th>O_t+1</th>\n",
              "      <th>A_t+1</th>\n",
              "      <th>done</th>\n",
              "    </tr>\n",
              "  </thead>\n",
              "  <tbody>\n",
              "    <tr>\n",
              "      <th>0</th>\n",
              "      <td>[-0.42009034620748475, 0.0]</td>\n",
              "      <td>0</td>\n",
              "      <td>-1.0</td>\n",
              "      <td>[-0.42185424331721944, -0.0017638971097346532]</td>\n",
              "      <td>1</td>\n",
              "      <td>False</td>\n",
              "    </tr>\n",
              "    <tr>\n",
              "      <th>1</th>\n",
              "      <td>[-0.42185424331721944, -0.0017638971097346532]</td>\n",
              "      <td>1</td>\n",
              "      <td>-1.0</td>\n",
              "      <td>[-0.424369430383582, -0.0025151870663625677]</td>\n",
              "      <td>0</td>\n",
              "      <td>False</td>\n",
              "    </tr>\n",
              "    <tr>\n",
              "      <th>2</th>\n",
              "      <td>[-0.424369430383582, -0.0025151870663625677]</td>\n",
              "      <td>0</td>\n",
              "      <td>-1.0</td>\n",
              "      <td>[-0.4286178942372306, -0.004248463853648605]</td>\n",
              "      <td>1</td>\n",
              "      <td>False</td>\n",
              "    </tr>\n",
              "    <tr>\n",
              "      <th>3</th>\n",
              "      <td>[-0.4286178942372306, -0.004248463853648605]</td>\n",
              "      <td>1</td>\n",
              "      <td>-1.0</td>\n",
              "      <td>[-0.4335691141122766, -0.004951219875046007]</td>\n",
              "      <td>1</td>\n",
              "      <td>False</td>\n",
              "    </tr>\n",
              "    <tr>\n",
              "      <th>4</th>\n",
              "      <td>[-0.4335691141122766, -0.004951219875046007]</td>\n",
              "      <td>1</td>\n",
              "      <td>-1.0</td>\n",
              "      <td>[-0.43918737697798166, -0.0056182628657050334]</td>\n",
              "      <td>2</td>\n",
              "      <td>False</td>\n",
              "    </tr>\n",
              "    <tr>\n",
              "      <th>...</th>\n",
              "      <td>...</td>\n",
              "      <td>...</td>\n",
              "      <td>...</td>\n",
              "      <td>...</td>\n",
              "      <td>...</td>\n",
              "      <td>...</td>\n",
              "    </tr>\n",
              "    <tr>\n",
              "      <th>195</th>\n",
              "      <td>[-0.5894434455586894, 0.026194213911171303]</td>\n",
              "      <td>1</td>\n",
              "      <td>-1.0</td>\n",
              "      <td>[-0.5627586019108097, 0.026684843647879715]</td>\n",
              "      <td>2</td>\n",
              "      <td>False</td>\n",
              "    </tr>\n",
              "    <tr>\n",
              "      <th>196</th>\n",
              "      <td>[-0.5627586019108097, 0.026684843647879715]</td>\n",
              "      <td>2</td>\n",
              "      <td>-1.0</td>\n",
              "      <td>[-0.5347807346764458, 0.027977867234363896]</td>\n",
              "      <td>0</td>\n",
              "      <td>False</td>\n",
              "    </tr>\n",
              "    <tr>\n",
              "      <th>197</th>\n",
              "      <td>[-0.5347807346764458, 0.027977867234363896]</td>\n",
              "      <td>0</td>\n",
              "      <td>-1.0</td>\n",
              "      <td>[-0.5077190184772957, 0.02706171619915008]</td>\n",
              "      <td>0</td>\n",
              "      <td>False</td>\n",
              "    </tr>\n",
              "    <tr>\n",
              "      <th>198</th>\n",
              "      <td>[-0.5077190184772957, 0.02706171619915008]</td>\n",
              "      <td>0</td>\n",
              "      <td>-1.0</td>\n",
              "      <td>[-0.48177635541277536, 0.025942663064520387]</td>\n",
              "      <td>1</td>\n",
              "      <td>False</td>\n",
              "    </tr>\n",
              "    <tr>\n",
              "      <th>199</th>\n",
              "      <td>[-0.48177635541277536, 0.025942663064520387]</td>\n",
              "      <td>1</td>\n",
              "      <td>-1.0</td>\n",
              "      <td>[-0.4561465381847357, 0.02562981722803962]</td>\n",
              "      <td>0</td>\n",
              "      <td>True</td>\n",
              "    </tr>\n",
              "  </tbody>\n",
              "</table>\n",
              "<p>200 rows × 6 columns</p>\n",
              "</div>"
            ],
            "text/plain": [
              "                                                O_t  A_t  ...  A_t+1   done\n",
              "0                       [-0.42009034620748475, 0.0]    0  ...      1  False\n",
              "1    [-0.42185424331721944, -0.0017638971097346532]    1  ...      0  False\n",
              "2      [-0.424369430383582, -0.0025151870663625677]    0  ...      1  False\n",
              "3      [-0.4286178942372306, -0.004248463853648605]    1  ...      1  False\n",
              "4      [-0.4335691141122766, -0.004951219875046007]    1  ...      2  False\n",
              "..                                              ...  ...  ...    ...    ...\n",
              "195     [-0.5894434455586894, 0.026194213911171303]    1  ...      2  False\n",
              "196     [-0.5627586019108097, 0.026684843647879715]    2  ...      0  False\n",
              "197     [-0.5347807346764458, 0.027977867234363896]    0  ...      0  False\n",
              "198      [-0.5077190184772957, 0.02706171619915008]    0  ...      1  False\n",
              "199    [-0.48177635541277536, 0.025942663064520387]    1  ...      0   True\n",
              "\n",
              "[200 rows x 6 columns]"
            ]
          },
          "metadata": {
            "tags": []
          },
          "execution_count": 15
        },
        {
          "output_type": "display_data",
          "data": {
            "image/png": "[encoded data removed]",
            "text/plain": [
              "<Figure size 792x612 with 10 Axes>"
            ]
          },
          "metadata": {
            "tags": [],
            "needs_background": "light"
          }
        }
      ]
    },
    {
      "cell_type": "code",
      "metadata": {
        "id": "c-55d1ShgjOH"
      },
      "source": [
        "#%% General training template\r\n",
        "\r\n",
        "def train(step_update_fun,\r\n",
        "        alpha = 0.5,\r\n",
        "        eps = 0.001,\r\n",
        "        gamma = 0.9,\r\n",
        "        num_S = obs2state.S,\r\n",
        "        num_A = env.action_space.n,\r\n",
        "        seed = 0,\r\n",
        "        n_training_episodes = 10000):\r\n",
        "    \"\"\"\r\n",
        "    Generic template for training of tabular methods. \r\n",
        "    Training can be monitoring through a plot and be interrupted at any time.\r\n",
        "\r\n",
        "    Parameters:\r\n",
        "    ----------------\r\n",
        "    step_update_fun : function\r\n",
        "        Function with inputs: List[s, a, r, s_, a_, done], Q, alpha, gamma\r\n",
        "        Called after each step is made. \r\n",
        "        The last call with be with done == True.\r\n",
        "\r\n",
        "    Returns:\r\n",
        "    ----------------\r\n",
        "    locals() : \r\n",
        "        All local variables in this training function\r\n",
        "    \"\"\"\r\n",
        "    rng = np.random.RandomState(seed)\r\n",
        "    Q = rng.random([num_S, num_A]); assert (Q > 0).all()\r\n",
        "\r\n",
        "    training_hist = []\r\n",
        "    testing_hist = []\r\n",
        "    try:\r\n",
        "        for episode_i in range(n_training_episodes):\r\n",
        "            # On-the-fly eps-soft policy based on Q\r\n",
        "            policy_fun = lambda s: rng.choice(\r\n",
        "                (np.argmax(Q[obs2state(s)]), rng.randint(num_A)), \r\n",
        "                p=(1-eps, eps))\r\n",
        "            \r\n",
        "            episode = []\r\n",
        "            for step_i, (o, a, r, o_, a_, done) in enumerate(\r\n",
        "                                                run_env(policy_fun)):\r\n",
        "                s, s_ = obs2state(o), obs2state(o_)\r\n",
        "                episode.append((s, a, r, s_, a_, done))\r\n",
        "                step_update_fun(episode, Q, alpha, gamma)\r\n",
        "\r\n",
        "            # Monitor training progress\r\n",
        "            training_hist.append((episode_i, len(episode)))\r\n",
        "            if episode_i % 50 == 0:\r\n",
        "                # Test greedy policy\r\n",
        "                testing_hist.append((episode_i, \r\n",
        "                    len(list(run_env(lambda o: np.argmax(Q[obs2state(o)]))))\r\n",
        "                ))\r\n",
        "                clear_output(wait=True)\r\n",
        "                training_hist_ = np.array(training_hist)\r\n",
        "                testing_hist_ = np.array(testing_hist)\r\n",
        "                plt.plot(testing_hist_[:, 0], testing_hist_[:, 1], 'rx')\r\n",
        "                plt.plot(training_hist_[:, 0], pd.Series(training_hist_[:, 1]).rolling(100).median(), \"b-\")\r\n",
        "                plt.scatter(training_hist_[:, 0], training_hist_[:, 1], s=0.1, alpha=0.5, color=\"b\")\r\n",
        "                plt.legend([\"Testing (greedy)\",\r\n",
        "                            \"Training moving average\", \r\n",
        "                            \"Training (eps-soft)\"])\r\n",
        "                plt.xlabel(\"Training episode\")\r\n",
        "                plt.ylabel(\"Performance (steps)\")\r\n",
        "                plt.title(\"Training/Testing performance\")\r\n",
        "                plt.grid()\r\n",
        "                plt.show()\r\n",
        "                print(f\"Training: Episode {episode_i} lasted {step_i} steps\")\r\n",
        "            ##\r\n",
        "    except KeyboardInterrupt as e:\r\n",
        "        print(e)\r\n",
        "    finally:\r\n",
        "        # Monitor training progress\r\n",
        "        clear_output(wait=True)\r\n",
        "        training_hist_ = np.array(training_hist)\r\n",
        "        testing_hist_ = np.array(testing_hist)\r\n",
        "        plt.plot(testing_hist_[:, 0], testing_hist_[:, 1], 'rx')\r\n",
        "        plt.plot(training_hist_[:, 0], pd.Series(training_hist_[:, 1]).rolling(100).median(), \"b-\")\r\n",
        "        plt.scatter(training_hist_[:, 0], training_hist_[:, 1], s=0.1, alpha=0.5, color=\"b\")\r\n",
        "        plt.legend([\"Testing (greedy)\",\r\n",
        "                    \"Training moving average\", \r\n",
        "                    \"Training (eps-soft)\"])\r\n",
        "        plt.xlabel(\"Training episode\")\r\n",
        "        plt.ylabel(\"Performance (steps)\")\r\n",
        "        plt.title(\"Training/Testing performance\")\r\n",
        "        plt.grid()\r\n",
        "        plt.show()\r\n",
        "        ##\r\n",
        "        return locals()\r\n",
        "\r\n",
        "S, A, R, S_, A_, DONE = 0, 1, 2, 3, 4, 5"
      ],
      "execution_count": 13,
      "outputs": []
    },
    {
      "cell_type": "code",
      "metadata": {
        "colab": {
          "base_uri": "https://localhost:8080/",
          "height": 295
        },
        "id": "KRUlxj5Xkvl3",
        "outputId": "f3a87bd9-b900-4b13-de1a-2c2b3cc42033"
      },
      "source": [
        "#%% Monte Carlo implementation - training\r\n",
        "\r\n",
        "class monte_carlo_update():\r\n",
        "    def __init__(self):\r\n",
        "        self.Returns = defaultdict(lambda : defaultdict(list))\r\n",
        "\r\n",
        "    def __call__(self, episode, Q, alpha, gamma):\r\n",
        "        \"\"\"\r\n",
        "        Page 101, epsilon soft MC\r\n",
        "        \"\"\"\r\n",
        "        # MC only updates after the entire episode is done\r\n",
        "        if not episode[-1][DONE]:\r\n",
        "            return\r\n",
        "        else:\r\n",
        "            G = 0\r\n",
        "            sa_pairs = tuple([\r\n",
        "                        (St, At) for St, At, Rt_1, St_1, At_1, done in episode])\r\n",
        "            for t in reversed(range(len(episode))):\r\n",
        "                St, At, Rt_1, St_1, At_1, done = episode[t]\r\n",
        "                G = gamma * G + Rt_1\r\n",
        "                if not (St, At) in sa_pairs[:t]:\r\n",
        "                    self.Returns[St][At].append(G)\r\n",
        "                    Q[St, At] = np.mean(self.Returns[St][At])\r\n",
        "\r\n",
        "result = train(step_update_fun=monte_carlo_update(), gamma=0.999, eps = 0.001, \r\n",
        "                                            n_training_episodes=2000)\r\n",
        "globals().update(result)"
      ],
      "execution_count": 12,
      "outputs": [
        {
          "output_type": "display_data",
          "data": {
            "image/png": "[encoded data removed]",
            "text/plain": [
              "<Figure size 432x288 with 1 Axes>"
            ]
          },
          "metadata": {
            "tags": [],
            "needs_background": "light"
          }
        }
      ]
    },
    {
      "cell_type": "code",
      "metadata": {
        "colab": {
          "base_uri": "https://localhost:8080/",
          "height": 675
        },
        "id": "hTaq4KRUidEh",
        "outputId": "19cc2cb5-20b5-4197-afa4-c142aaf19ad7"
      },
      "source": [
        "#%% Monte Carlo testing\r\n",
        "for i in range(10):\r\n",
        "    episode = list(run_env(lambda o: np.argmax(Q[obs2state(o)]), plot=False))\r\n",
        "    print(f\"Testing episode ended in {len(episode)} steps at {episode[-1]}\")\r\n",
        "\r\n",
        "episode = list(run_env(lambda o: np.argmax(Q[obs2state(o)]), plot=True))\r\n",
        "print(f\"Testing episode ended in {len(episode)} steps at {episode[-1]}\")"
      ],
      "execution_count": 16,
      "outputs": [
        {
          "output_type": "stream",
          "text": [
            "Testing episode ended in 122 steps at (array([0.47811921, 0.03340496]), 2, -1.0, array([0.51218413, 0.03406492]), 2, True)\n",
            "Testing episode ended in 122 steps at (array([0.48693214, 0.03446953]), 2, -1.0, array([0.52212723, 0.03519509]), 2, True)\n",
            "Testing episode ended in 122 steps at (array([0.49405434, 0.03418063]), 2, -1.0, array([0.52901368, 0.03495934]), 2, True)\n",
            "Testing episode ended in 116 steps at (array([0.45991994, 0.04184113]), 2, -1.0, array([0.50228638, 0.04236644]), 2, True)\n",
            "Testing episode ended in 127 steps at (array([0.46439375, 0.03922753]), 2, -1.0, array([0.50417958, 0.03978582]), 2, True)\n",
            "Testing episode ended in 115 steps at (array([0.45991994, 0.04184113]), 2, -1.0, array([0.50228638, 0.04236644]), 2, True)\n",
            "Testing episode ended in 121 steps at (array([0.45991994, 0.04184113]), 2, -1.0, array([0.50228638, 0.04236644]), 2, True)\n",
            "Testing episode ended in 122 steps at (array([0.48040604, 0.03267794]), 2, -1.0, array([0.51376094, 0.0333549 ]), 2, True)\n",
            "Testing episode ended in 122 steps at (array([0.49081308, 0.03495716]), 2, -1.0, array([0.52652474, 0.03571167]), 2, True)\n",
            "Testing episode ended in 126 steps at (array([0.47366849, 0.04137972]), 2, -1.0, array([0.51567513, 0.04200664]), 2, True)\n",
            "Testing episode ended in 115 steps at (array([0.45991994, 0.04184113]), 2, -1.0, array([0.50228638, 0.04236644]), 2, True)\n"
          ],
          "name": "stdout"
        },
        {
          "output_type": "display_data",
          "data": {
            "image/png": "[encoded data removed]",
            "text/plain": [
              "<Figure size 792x612 with 10 Axes>"
            ]
          },
          "metadata": {
            "tags": [],
            "needs_background": "light"
          }
        }
      ]
    },
    {
      "cell_type": "markdown",
      "metadata": {
        "id": "X0s0PjafahKj"
      },
      "source": [
        "\r\n",
        "Task 1: TD(0)\r\n",
        "-------------\r\n",
        "\r\n",
        "Develop a TD(0) controller using:\r\n",
        "\r\n",
        "*   on-policy SARSA\r\n",
        "*   on-policy expected SARSA\r\n",
        "*   off-policy expected SARSA with a greedy control policy.\r\n",
        "\r\n",
        "Compare the performance of your controllers.\r\n",
        "\r\n",
        "This will be graded.\r\n"
      ]
    },
    {
      "cell_type": "markdown",
      "metadata": {
        "id": "XCunC6YeahM_"
      },
      "source": [
        ""
      ]
    },
    {
      "cell_type": "markdown",
      "metadata": {
        "id": "LJLFVLJyahP1"
      },
      "source": [
        ""
      ]
    },
    {
      "cell_type": "markdown",
      "metadata": {
        "id": "LpTqtZ6eahSQ"
      },
      "source": [
        ""
      ]
    },
    {
      "cell_type": "markdown",
      "metadata": {
        "id": "mhgBtTDsahU9"
      },
      "source": [
        ""
      ]
    },
    {
      "cell_type": "markdown",
      "metadata": {
        "id": "P0vzHxNCahX7"
      },
      "source": [
        ""
      ]
    },
    {
      "cell_type": "markdown",
      "metadata": {
        "id": "yBXGtGs2ahaf"
      },
      "source": [
        ""
      ]
    },
    {
      "cell_type": "markdown",
      "metadata": {
        "id": "sgV7J1xcahdR"
      },
      "source": [
        ""
      ]
    },
    {
      "cell_type": "markdown",
      "metadata": {
        "id": "I5LqnUnAahfh"
      },
      "source": [
        ""
      ]
    },
    {
      "cell_type": "markdown",
      "metadata": {
        "id": "9Y15cbVwahhj"
      },
      "source": [
        ""
      ]
    },
    {
      "cell_type": "markdown",
      "metadata": {
        "id": "26LofBs-ahkT"
      },
      "source": [
        "\r\n",
        "Exercise 2: TD(n)\r\n",
        "-----------------\r\n",
        "\r\n",
        "A useful ungraded exercise. Develop code for TD(n) predication, n-step SARSA (on-policy) control and off-policy Tree Backup control.\r\n",
        "\r\n",
        "Test it out.\r\n",
        "\r\n",
        "Task 2: TD(2), TD(3), TD(4)\r\n",
        "---------------------------\r\n",
        "\r\n",
        "Code controllers for TD(2), TD(3), and TD(4) using n-SARSA. Assess performance and compare against TD(0) and each other.\r\n",
        "\r\n",
        "You may choose to use your work from Ex 2 for this (if you did Ex 2); otherwise you can code specific solvers for TD(2/3/4).\r\n",
        "\r\n",
        "Bonus Task 3: Tree Backup\r\n",
        "-------------------------\r\n",
        "\r\n",
        "This is optional; if you do this, your grade can exceed 100% and will offset other grades.\r\n",
        "\r\n",
        "Assess the performance of Tree Backup for TD(2), TD(3), and TD(4) versus the respective n-SARSA controller.\r\n",
        "\r\n",
        "Submission:\r\n",
        "-----------\r\n",
        "\r\n",
        "Submit a pdf containing your code --- in order --- and traces/logs indicating the controlling of the environment (instrument your code). Clearly include performance results (annotated with any parameters you chose). When asked to compare, show tables, and include discussion where needed to ensure your results are presented clearly. The TA can only grade what they see clearly presented; it is your responsibility to ensure this is the case. Follow the structure of the assignment spec.\r\n",
        "\r\n",
        "1615953599 03/16/2021 11:59pm"
      ]
    },
    {
      "cell_type": "code",
      "metadata": {
        "id": "asx9UlZcaaYB"
      },
      "source": [
        ""
      ],
      "execution_count": null,
      "outputs": []
    }
  ]
}