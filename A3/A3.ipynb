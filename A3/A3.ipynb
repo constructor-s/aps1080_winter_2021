{
  "nbformat": 4,
  "nbformat_minor": 0,
  "metadata": {
    "colab": {
      "name": "A3.ipynb",
      "provenance": [],
      "collapsed_sections": [],
      "authorship_tag": "ABX9TyMA6CMjkt4PVUVuRssdUHJY",
      "include_colab_link": true
    },
    "kernelspec": {
      "name": "python3",
      "display_name": "Python 3"
    }
  },
  "cells": [
    {
      "cell_type": "markdown",
      "metadata": {
        "id": "view-in-github",
        "colab_type": "text"
      },
      "source": [
        "<a href=\"https://colab.research.google.com/github/constructor-s/aps1080_winter_2021/blob/main/A3/A3.ipynb\" target=\"_parent\"><img src=\"https://colab.research.google.com/assets/colab-badge.svg\" alt=\"Open In Colab\"/></a>"
      ]
    },
    {
      "cell_type": "markdown",
      "metadata": {
        "id": "yTlFXb7waZxn"
      },
      "source": [
        "A3: TD(n) and Mountain Car\r\n",
        "==========================\r\n",
        "\r\n",
        "Submit Assignment\r\n",
        "\r\n",
        "*   Due Tuesday by 11:59pm\r\n",
        "*   Points 100\r\n",
        "*   Submitting a file upload\r\n",
        "*   File Types pdf\r\n",
        "\r\n",
        "In this assignment we are going to apply the TD(n) methods to solve the Mountain Car problem.\r\n",
        "\r\n",
        "By now, you should know how to load OpenAI gym environments:\r\n",
        "\r\n",
        "env = gym.make('MountainCar-v0')\r\n",
        "\r\n"
      ]
    },
    {
      "cell_type": "code",
      "metadata": {
        "id": "nUQRLkw6gi4R"
      },
      "source": [
        "#%% Set up rendering\r\n",
        "\r\n",
        "# from pyvirtualdisplay import Display\r\n",
        "# display = Display(visible=False, size=(400, 300))\r\n",
        "# display.start()"
      ],
      "execution_count": 14,
      "outputs": []
    },
    {
      "cell_type": "code",
      "metadata": {
        "id": "VrV67L1bbDxg"
      },
      "source": [
        "import gym\r\n",
        "import numpy as np\r\n",
        "import pandas as pd\r\n",
        "import matplotlib.pyplot as plt\r\n",
        "from collections import *\r\n",
        "from IPython.display import clear_output\r\n",
        "\r\n",
        "env = gym.make('MountainCar-v0')"
      ],
      "execution_count": 15,
      "outputs": []
    },
    {
      "cell_type": "markdown",
      "metadata": {
        "id": "iJ1-U7kXahHe"
      },
      "source": [
        "Exercise 1: Prelims\r\n",
        "-------------------\r\n",
        "\r\n",
        "These are useful exercises to develop facility with the environment prior to the graded component of the assignment. Explore the above environment as we've done in past assignments and exercises.\r\n",
        "\r\n",
        "Develop a MC controller and assess its performance.\r\n"
      ]
    },
    {
      "cell_type": "code",
      "metadata": {
        "colab": {
          "base_uri": "https://localhost:8080/",
          "height": 442
        },
        "id": "QvBn1AQnbe3q",
        "outputId": "318af36c-456c-43d0-9e12-346876d0643b"
      },
      "source": [
        "#%% Set up the environment\r\n",
        "\"\"\"\r\n",
        "Reference:\r\n",
        "\r\n",
        "Description:\r\n",
        "    The agent (a car) is started at the bottom of a valley. For any given\r\n",
        "    state the agent may choose to accelerate to the left, right or cease\r\n",
        "    any acceleration.\r\n",
        "Source:\r\n",
        "    The environment appeared first in Andrew Moore's PhD Thesis (1990).\r\n",
        "Observation:\r\n",
        "    Type: Box(2)\r\n",
        "    Num    Observation               Min            Max\r\n",
        "    0      Car Position              -1.2           0.6\r\n",
        "    1      Car Velocity              -0.07          0.07\r\n",
        "Actions:\r\n",
        "    Type: Discrete(3)\r\n",
        "    Num    Action\r\n",
        "    0      Accelerate to the Left\r\n",
        "    1      Don't accelerate\r\n",
        "    2      Accelerate to the Right\r\n",
        "    Note: This does not affect the amount of velocity affected by the\r\n",
        "    gravitational pull acting on the car.\r\n",
        "Reward:\r\n",
        "        Reward of 0 is awarded if the agent reached the flag (position = 0.5)\r\n",
        "        on top of the mountain.\r\n",
        "        Reward of -1 is awarded if the position of the agent is less than 0.5.\r\n",
        "Starting State:\r\n",
        "        The position of the car is assigned a uniform random value in\r\n",
        "        [-0.6 , -0.4].\r\n",
        "        The starting velocity of the car is always assigned to 0.\r\n",
        "Episode Termination:\r\n",
        "        The car position is more than 0.5\r\n",
        "        Episode length is greater than 200\r\n",
        "\"\"\"\r\n",
        "\r\n",
        "def obs2state(obs):\r\n",
        "    \"\"\"\r\n",
        "    Discretize observations to states\r\n",
        "    \"\"\"\r\n",
        "    digitized = [np.searchsorted(bins, o, \"right\") \r\n",
        "            for o, bins in zip(obs, obs2state.bin_divide)]\r\n",
        "    return (digitized * obs2state.multiplier).sum()\r\n",
        "obs2state.bin_divide = (\r\n",
        "        (-0.3, +0.0, +0.3),\r\n",
        "        (+0.0, ),\r\n",
        ")\r\n",
        "obs2state.multiplier = np.concatenate([[1], \r\n",
        "                    np.cumprod([len(i)+1 for i in obs2state.bin_divide[:-1]])])\r\n",
        "obs2state.S = np.product([len(i)+1 for i in obs2state.bin_divide])\r\n",
        "\r\n",
        "\r\n",
        "def run_env(policy_fun, # obs2state=obs2state, \r\n",
        "            env=gym.make('MountainCar-v0'), max_iter=1000, \r\n",
        "            debug=False, plot=False):\r\n",
        "    \"\"\"\r\n",
        "    Simulate episodes of the environment\r\n",
        "\r\n",
        "    Parameters\r\n",
        "    ------------------\r\n",
        "    policy_fun : function\r\n",
        "        A function that maps observation to valid action\r\n",
        "\r\n",
        "    Yields\r\n",
        "    ------------------\r\n",
        "    O_t, A_t, R_t+1, O_t+1, A_t+1, done\r\n",
        "        SARSA pairs. O is the observation.\r\n",
        "    \"\"\"\r\n",
        "    if plot:\r\n",
        "        fig, ax = plt.subplots(2, 5, figsize=(11, 8.5))\r\n",
        "    obs = env.reset() # ; s = obs2state(obs)\r\n",
        "    a = policy_fun(obs)\r\n",
        "    for i in range(max_iter):\r\n",
        "        next_obs, r, done, info = env.step(a) #; next_s = obs2state(next_obs)\r\n",
        "        next_a = policy_fun(next_obs)\r\n",
        "        yield obs, a, r, next_obs, next_a, done\r\n",
        "        if plot and i%20 == 19:\r\n",
        "            ax.ravel()[i // 20].imshow(env.render(mode='rgb_array'))\r\n",
        "            ax.ravel()[i // 20].set_title(\r\n",
        "                f\"Step {i}, obs =\\n{np.array2string(obs, precision=1)}\")\r\n",
        "        if debug and done:\r\n",
        "            print(f\"Observation at i = {i}: {obs}\")\r\n",
        "        obs, a = next_obs, next_a\r\n",
        "        if done:\r\n",
        "            if debug:\r\n",
        "                print(f\"Observation at terminal: {obs}\")\r\n",
        "            if plot:\r\n",
        "                ax.ravel()[-1].imshow(env.render(mode='rgb_array'))\r\n",
        "                ax.ravel()[-1].set_title(\r\n",
        "                    f\"Step {i}, obs =\\n{np.array2string(obs, precision=1)}\")\r\n",
        "            break\r\n",
        "    env.close()\r\n",
        "\r\n",
        "print(\"Generating a random episode:\")\r\n",
        "rng = np.random.RandomState(0)\r\n",
        "pd.DataFrame(run_env(lambda _: rng.randint(3), plot='display' in globals()),\r\n",
        "             columns=[\"O_t\", \"A_t\", \"R_t+1\", \"O_t+1\", \"A_t+1\", \"done\"])"
      ],
      "execution_count": 16,
      "outputs": [
        {
          "output_type": "stream",
          "text": [
            "Generating a random episode:\n"
          ],
          "name": "stdout"
        },
        {
          "output_type": "execute_result",
          "data": {
            "text/html": [
              "<div>\n",
              "<style scoped>\n",
              "    .dataframe tbody tr th:only-of-type {\n",
              "        vertical-align: middle;\n",
              "    }\n",
              "\n",
              "    .dataframe tbody tr th {\n",
              "        vertical-align: top;\n",
              "    }\n",
              "\n",
              "    .dataframe thead th {\n",
              "        text-align: right;\n",
              "    }\n",
              "</style>\n",
              "<table border=\"1\" class=\"dataframe\">\n",
              "  <thead>\n",
              "    <tr style=\"text-align: right;\">\n",
              "      <th></th>\n",
              "      <th>O_t</th>\n",
              "      <th>A_t</th>\n",
              "      <th>R_t+1</th>\n",
              "      <th>O_t+1</th>\n",
              "      <th>A_t+1</th>\n",
              "      <th>done</th>\n",
              "    </tr>\n",
              "  </thead>\n",
              "  <tbody>\n",
              "    <tr>\n",
              "      <th>0</th>\n",
              "      <td>[-0.4873005318493257, 0.0]</td>\n",
              "      <td>0</td>\n",
              "      <td>-1.0</td>\n",
              "      <td>[-0.4885722309628013, -0.0012716991134755563]</td>\n",
              "      <td>1</td>\n",
              "      <td>False</td>\n",
              "    </tr>\n",
              "    <tr>\n",
              "      <th>1</th>\n",
              "      <td>[-0.4885722309628013, -0.0012716991134755563]</td>\n",
              "      <td>1</td>\n",
              "      <td>-1.0</td>\n",
              "      <td>[-0.4901061459858374, -0.0015339150230361265]</td>\n",
              "      <td>0</td>\n",
              "      <td>False</td>\n",
              "    </tr>\n",
              "    <tr>\n",
              "      <th>2</th>\n",
              "      <td>[-0.4901061459858374, -0.0015339150230361265]</td>\n",
              "      <td>0</td>\n",
              "      <td>-1.0</td>\n",
              "      <td>[-0.49289083327540506, -0.0027846872895676304]</td>\n",
              "      <td>1</td>\n",
              "      <td>False</td>\n",
              "    </tr>\n",
              "    <tr>\n",
              "      <th>3</th>\n",
              "      <td>[-0.49289083327540506, -0.0027846872895676304]</td>\n",
              "      <td>1</td>\n",
              "      <td>-1.0</td>\n",
              "      <td>[-0.4959055045054149, -0.003014671230009834]</td>\n",
              "      <td>1</td>\n",
              "      <td>False</td>\n",
              "    </tr>\n",
              "    <tr>\n",
              "      <th>4</th>\n",
              "      <td>[-0.4959055045054149, -0.003014671230009834]</td>\n",
              "      <td>1</td>\n",
              "      <td>-1.0</td>\n",
              "      <td>[-0.4991276364185299, -0.003222131913115038]</td>\n",
              "      <td>2</td>\n",
              "      <td>False</td>\n",
              "    </tr>\n",
              "    <tr>\n",
              "      <th>...</th>\n",
              "      <td>...</td>\n",
              "      <td>...</td>\n",
              "      <td>...</td>\n",
              "      <td>...</td>\n",
              "      <td>...</td>\n",
              "      <td>...</td>\n",
              "    </tr>\n",
              "    <tr>\n",
              "      <th>195</th>\n",
              "      <td>[-0.5139365606166415, 0.022309545333727563]</td>\n",
              "      <td>1</td>\n",
              "      <td>-1.0</td>\n",
              "      <td>[-0.4916994717476524, 0.022237088868989105]</td>\n",
              "      <td>2</td>\n",
              "      <td>False</td>\n",
              "    </tr>\n",
              "    <tr>\n",
              "      <th>196</th>\n",
              "      <td>[-0.4916994717476524, 0.022237088868989105]</td>\n",
              "      <td>2</td>\n",
              "      <td>-1.0</td>\n",
              "      <td>[-0.4687012626538396, 0.0229982090938128]</td>\n",
              "      <td>0</td>\n",
              "      <td>False</td>\n",
              "    </tr>\n",
              "    <tr>\n",
              "      <th>197</th>\n",
              "      <td>[-0.4687012626538396, 0.0229982090938128]</td>\n",
              "      <td>0</td>\n",
              "      <td>-1.0</td>\n",
              "      <td>[-0.4471129261547602, 0.021588336499079385]</td>\n",
              "      <td>0</td>\n",
              "      <td>False</td>\n",
              "    </tr>\n",
              "    <tr>\n",
              "      <th>198</th>\n",
              "      <td>[-0.4471129261547602, 0.021588336499079385]</td>\n",
              "      <td>0</td>\n",
              "      <td>-1.0</td>\n",
              "      <td>[-0.42709321296332603, 0.02001971319143421]</td>\n",
              "      <td>1</td>\n",
              "      <td>False</td>\n",
              "    </tr>\n",
              "    <tr>\n",
              "      <th>199</th>\n",
              "      <td>[-0.42709321296332603, 0.02001971319143421]</td>\n",
              "      <td>1</td>\n",
              "      <td>-1.0</td>\n",
              "      <td>[-0.4077872224240666, 0.01930599053925941]</td>\n",
              "      <td>0</td>\n",
              "      <td>True</td>\n",
              "    </tr>\n",
              "  </tbody>\n",
              "</table>\n",
              "<p>200 rows × 6 columns</p>\n",
              "</div>"
            ],
            "text/plain": [
              "                                                O_t  A_t  ...  A_t+1   done\n",
              "0                        [-0.4873005318493257, 0.0]    0  ...      1  False\n",
              "1     [-0.4885722309628013, -0.0012716991134755563]    1  ...      0  False\n",
              "2     [-0.4901061459858374, -0.0015339150230361265]    0  ...      1  False\n",
              "3    [-0.49289083327540506, -0.0027846872895676304]    1  ...      1  False\n",
              "4      [-0.4959055045054149, -0.003014671230009834]    1  ...      2  False\n",
              "..                                              ...  ...  ...    ...    ...\n",
              "195     [-0.5139365606166415, 0.022309545333727563]    1  ...      2  False\n",
              "196     [-0.4916994717476524, 0.022237088868989105]    2  ...      0  False\n",
              "197       [-0.4687012626538396, 0.0229982090938128]    0  ...      0  False\n",
              "198     [-0.4471129261547602, 0.021588336499079385]    0  ...      1  False\n",
              "199     [-0.42709321296332603, 0.02001971319143421]    1  ...      0   True\n",
              "\n",
              "[200 rows x 6 columns]"
            ]
          },
          "metadata": {
            "tags": []
          },
          "execution_count": 16
        }
      ]
    },
    {
      "cell_type": "code",
      "metadata": {
        "id": "c-55d1ShgjOH"
      },
      "source": [
        "#%% General training template\r\n",
        "\r\n",
        "def train(step_update_fun,\r\n",
        "        alpha = 0.5,\r\n",
        "        eps = 0.001,\r\n",
        "        gamma = 0.9,\r\n",
        "        num_S = obs2state.S,\r\n",
        "        num_A = env.action_space.n,\r\n",
        "        seed = 0,\r\n",
        "        n_training_episodes = 10000):\r\n",
        "    \"\"\"\r\n",
        "    Generic template for training of tabular methods. \r\n",
        "    Training can be monitoring through a plot and be interrupted at any time.\r\n",
        "\r\n",
        "    Parameters:\r\n",
        "    ----------------\r\n",
        "    step_update_fun : function\r\n",
        "        Function with inputs: List[s, a, r, s_, a_, done], Q, alpha, gamma\r\n",
        "        Called after each step is made. \r\n",
        "        The last call with be with done == True.\r\n",
        "\r\n",
        "    Returns:\r\n",
        "    ----------------\r\n",
        "    locals() : \r\n",
        "        All local variables in this training function\r\n",
        "    \"\"\"\r\n",
        "    rng = np.random.RandomState(seed)\r\n",
        "    Q = rng.random([num_S, num_A]); assert (Q > 0).all()\r\n",
        "\r\n",
        "    training_hist = []\r\n",
        "    testing_hist = []\r\n",
        "    try:\r\n",
        "        for episode_i in range(n_training_episodes):\r\n",
        "            # On-the-fly eps-soft policy based on Q\r\n",
        "            policy_fun = lambda s: rng.choice(\r\n",
        "                (np.argmax(Q[obs2state(s)]), rng.randint(num_A)), \r\n",
        "                p=(1-eps, eps))\r\n",
        "            \r\n",
        "            episode = []\r\n",
        "            for step_i, (o, a, r, o_, a_, done) in enumerate(\r\n",
        "                                                run_env(policy_fun)):\r\n",
        "                s, s_ = obs2state(o), obs2state(o_)\r\n",
        "                episode.append((s, a, r, s_, a_, done))\r\n",
        "                step_update_fun(episode, Q, alpha, gamma)\r\n",
        "\r\n",
        "            # Monitor training progress\r\n",
        "            training_hist.append((episode_i, len(episode)))\r\n",
        "            if episode_i % 50 == 0:\r\n",
        "                # Test greedy policy\r\n",
        "                testing_hist.append((episode_i, \r\n",
        "                    len(list(run_env(lambda o: np.argmax(Q[obs2state(o)]))))\r\n",
        "                ))\r\n",
        "                clear_output(wait=True)\r\n",
        "                training_hist_ = np.array(training_hist)\r\n",
        "                testing_hist_ = np.array(testing_hist)\r\n",
        "                plt.plot(testing_hist_[:, 0], testing_hist_[:, 1], 'rx')\r\n",
        "                plt.plot(training_hist_[:, 0], pd.Series(training_hist_[:, 1]).rolling(100).median(), \"b-\")\r\n",
        "                plt.scatter(training_hist_[:, 0], training_hist_[:, 1], s=0.1, alpha=0.5, color=\"b\")\r\n",
        "                plt.legend([\"Testing (greedy)\",\r\n",
        "                            \"Training moving average\", \r\n",
        "                            \"Training (eps-soft)\"])\r\n",
        "                plt.xlabel(\"Training episode\")\r\n",
        "                plt.ylabel(\"Performance (steps)\")\r\n",
        "                plt.title(\"Training/Testing performance\")\r\n",
        "                plt.grid()\r\n",
        "                plt.show()\r\n",
        "                print(f\"Training: Episode {episode_i} lasted {step_i} steps\")\r\n",
        "            ##\r\n",
        "    except KeyboardInterrupt as e:\r\n",
        "        print(e)\r\n",
        "    finally:\r\n",
        "        # Monitor training progress\r\n",
        "        clear_output(wait=True)\r\n",
        "        training_hist_ = np.array(training_hist)\r\n",
        "        testing_hist_ = np.array(testing_hist)\r\n",
        "        plt.plot(testing_hist_[:, 0], testing_hist_[:, 1], 'rx')\r\n",
        "        plt.plot(training_hist_[:, 0], pd.Series(training_hist_[:, 1]).rolling(100).median(), \"b-\")\r\n",
        "        plt.scatter(training_hist_[:, 0], training_hist_[:, 1], s=0.1, alpha=0.5, color=\"b\")\r\n",
        "        plt.legend([\"Testing (greedy)\",\r\n",
        "                    \"Training moving average\", \r\n",
        "                    \"Training (eps-soft)\"])\r\n",
        "        plt.xlabel(\"Training episode\")\r\n",
        "        plt.ylabel(\"Performance (steps)\")\r\n",
        "        plt.title(\"Training/Testing performance\")\r\n",
        "        plt.grid()\r\n",
        "        plt.show()\r\n",
        "        ##\r\n",
        "        return locals()\r\n",
        "\r\n",
        "S, A, R, S_, A_, DONE = 0, 1, 2, 3, 4, 5"
      ],
      "execution_count": 17,
      "outputs": []
    },
    {
      "cell_type": "code",
      "metadata": {
        "colab": {
          "base_uri": "https://localhost:8080/",
          "height": 295
        },
        "id": "KRUlxj5Xkvl3",
        "outputId": "d65cdd2c-efa2-4bce-aad5-fd7ac2c7fd67"
      },
      "source": [
        "#%% Monte Carlo implementation - training\r\n",
        "\r\n",
        "class monte_carlo_update():\r\n",
        "    \"\"\"\r\n",
        "    Function that provides the Monte Carlo update at the end of the episode\r\n",
        "    \"\"\"\r\n",
        "    def __init__(self):\r\n",
        "        \"\"\"\r\n",
        "        Initialize the Returns dict to store the return history across episodes\r\n",
        "        \"\"\"\r\n",
        "        self.Returns = defaultdict(lambda : defaultdict(list))\r\n",
        "\r\n",
        "    def __call__(self, episode, Q, alpha, gamma):\r\n",
        "        \"\"\"\r\n",
        "        Page 101, epsilon soft MC\r\n",
        "        \"\"\"\r\n",
        "        # MC only updates after the entire episode is done\r\n",
        "        if not episode[-1][DONE]:\r\n",
        "            return\r\n",
        "        else:\r\n",
        "            G = 0\r\n",
        "            sa_pairs = tuple([\r\n",
        "                        (St, At) for St, At, Rt_1, St_1, At_1, done in episode])\r\n",
        "            for t in reversed(range(len(episode))):\r\n",
        "                St, At, Rt_1, St_1, At_1, done = episode[t]\r\n",
        "                G = gamma * G + Rt_1\r\n",
        "                if not (St, At) in sa_pairs[:t]:\r\n",
        "                    self.Returns[St][At].append(G)\r\n",
        "                    Q[St, At] = np.mean(self.Returns[St][At])\r\n",
        "\r\n",
        "result = train(step_update_fun=monte_carlo_update(), gamma=0.999, eps = 0.001, \r\n",
        "                                            n_training_episodes=500)\r\n",
        "globals().update(result)"
      ],
      "execution_count": 18,
      "outputs": [
        {
          "output_type": "display_data",
          "data": {
            "image/png": "[encoded data removed]",
            "text/plain": [
              "<Figure size 432x288 with 1 Axes>"
            ]
          },
          "metadata": {
            "tags": [],
            "needs_background": "light"
          }
        }
      ]
    },
    {
      "cell_type": "code",
      "metadata": {
        "colab": {
          "base_uri": "https://localhost:8080/"
        },
        "id": "hTaq4KRUidEh",
        "outputId": "23b11a74-7b0c-48a2-c2b5-83a12afda7d0"
      },
      "source": [
        "#%% Monte Carlo testing\r\n",
        "\r\n",
        "for i in range(10):\r\n",
        "    episode = list(run_env(lambda o: np.argmax(Q[obs2state(o)]), plot=False))\r\n",
        "    print(f\"Testing episode ended in {len(episode)} steps at {episode[-1]}\")\r\n",
        "\r\n",
        "episode = list(run_env(lambda o: np.argmax(Q[obs2state(o)]), plot='display' in globals()))\r\n",
        "print(f\"Testing episode ended in {len(episode)} steps at {episode[-1]}\")"
      ],
      "execution_count": 19,
      "outputs": [
        {
          "output_type": "stream",
          "text": [
            "Testing episode ended in 125 steps at (array([0.4821488, 0.0276126]), 2, -1.0, array([0.51045132, 0.02830252]), 2, True)\n",
            "Testing episode ended in 125 steps at (array([0.49658631, 0.03058625]), 2, -1.0, array([0.52797018, 0.03138387]), 2, True)\n",
            "Testing episode ended in 125 steps at (array([0.49921809, 0.03693391]), 2, -1.0, array([0.53696931, 0.03775122]), 2, True)\n",
            "Testing episode ended in 125 steps at (array([0.47003004, 0.03104389]), 2, -1.0, array([0.50167389, 0.03164385]), 2, True)\n",
            "Testing episode ended in 124 steps at (array([0.47801318, 0.03746903]), 2, -1.0, array([0.51614138, 0.0381282 ]), 2, True)\n",
            "Testing episode ended in 124 steps at (array([0.49098112, 0.03499109]), 2, -1.0, array([0.52672797, 0.03574685]), 2, True)\n",
            "Testing episode ended in 126 steps at (array([0.47917   , 0.03814699]), 2, -1.0, array([0.51798476, 0.03881476]), 2, True)\n",
            "Testing episode ended in 126 steps at (array([0.46711519, 0.03692804]), 2, -1.0, array([0.50462163, 0.03750644]), 2, True)\n",
            "Testing episode ended in 126 steps at (array([0.49378101, 0.02664274]), 2, -1.0, array([0.52120041, 0.0274194 ]), 2, True)\n",
            "Testing episode ended in 125 steps at (array([0.47741701, 0.03378629]), 2, -1.0, array([0.51185805, 0.03444104]), 2, True)\n",
            "Testing episode ended in 125 steps at (array([0.48950124, 0.02973284]), 2, -1.0, array([0.5199788 , 0.03047755]), 2, True)\n"
          ],
          "name": "stdout"
        }
      ]
    },
    {
      "cell_type": "markdown",
      "metadata": {
        "id": "X0s0PjafahKj"
      },
      "source": [
        "\r\n",
        "Task 1: TD(0)\r\n",
        "-------------\r\n",
        "\r\n",
        "Develop a TD(0) controller using:\r\n",
        "\r\n",
        "*   on-policy SARSA\r\n",
        "*   on-policy expected SARSA\r\n",
        "*   off-policy expected SARSA with a greedy control policy.\r\n",
        "\r\n",
        "Compare the performance of your controllers.\r\n",
        "\r\n",
        "This will be graded.\r\n"
      ]
    },
    {
      "cell_type": "code",
      "metadata": {
        "colab": {
          "base_uri": "https://localhost:8080/",
          "height": 499
        },
        "id": "Q7jEHLcTkM4d",
        "outputId": "784bdd50-7be1-4075-9522-39784d786d34"
      },
      "source": [
        "#%% On-policy TD(0) SARSA Training and Testing\r\n",
        "\r\n",
        "# Training\r\n",
        "\r\n",
        "def sarsa_update_fun(episode, Q, alpha, gamma, *args, **kwargs):\r\n",
        "    \"\"\"\r\n",
        "    Page 130 SARSA\r\n",
        "    \"\"\"\r\n",
        "    s, a, r, s_, a_, done = episode[-1]\r\n",
        "    Q[s, a] = Q[s, a] + alpha * (r + gamma * Q[s_, a_] * (1-done) - Q[s, a])\r\n",
        "\r\n",
        "result = train(step_update_fun=sarsa_update_fun, \r\n",
        "               gamma=0.999, eps = 0.0001, alpha=0.20, n_training_episodes=1000)\r\n",
        "globals().update(result)\r\n",
        "\r\n",
        "# Testing\r\n",
        "\r\n",
        "for i in range(10):\r\n",
        "    episode = list(run_env(lambda o: np.argmax(Q[obs2state(o)]), plot=False))\r\n",
        "    print(f\"Testing episode ended in {len(episode)} steps at {episode[-1]}\")\r\n",
        "\r\n",
        "episode = list(run_env(lambda o: np.argmax(Q[obs2state(o)]), plot='display' in globals()))\r\n",
        "print(f\"Testing episode ended in {len(episode)} steps at {episode[-1]}\")"
      ],
      "execution_count": 22,
      "outputs": [
        {
          "output_type": "display_data",
          "data": {
            "image/png": "[encoded data removed]",
            "text/plain": [
              "<Figure size 432x288 with 1 Axes>"
            ]
          },
          "metadata": {
            "tags": [],
            "needs_background": "light"
          }
        },
        {
          "output_type": "stream",
          "text": [
            "Testing episode ended in 129 steps at (array([0.49780351, 0.02342888]), 2, -1.0, array([0.52203912, 0.02423561]), 2, True)\n",
            "Testing episode ended in 132 steps at (array([0.48707555, 0.02239194]), 2, -1.0, array([0.51019411, 0.02311856]), 2, True)\n",
            "Testing episode ended in 120 steps at (array([0.4810645 , 0.03011186]), 2, -1.0, array([0.51185821, 0.03079372]), 2, True)\n",
            "Testing episode ended in 121 steps at (array([0.47286394, 0.02726324]), 2, -1.0, array([0.50074814, 0.0278842 ]), 2, True)\n",
            "Testing episode ended in 116 steps at (array([0.46656907, 0.0363787 ]), 2, -1.0, array([0.50352214, 0.03695306]), 2, True)\n",
            "Testing episode ended in 119 steps at (array([0.47473271, 0.03643034]), 2, -1.0, array([0.51179787, 0.03706516]), 2, True)\n",
            "Testing episode ended in 138 steps at (array([0.48635993, 0.01500232]), 2, -1.0, array([0.50208354, 0.01572361]), 2, True)\n",
            "Testing episode ended in 125 steps at (array([0.48425456, 0.0265799 ]), 2, -1.0, array([0.51154006, 0.0272855 ]), 2, True)\n",
            "Testing episode ended in 137 steps at (array([0.48870097, 0.0158481 ]), 2, -1.0, array([0.50528782, 0.01658684]), 2, True)\n",
            "Testing episode ended in 123 steps at (array([0.47900079, 0.02435964]), 2, -1.0, array([0.50402694, 0.02502615]), 2, True)\n",
            "Testing episode ended in 145 steps at (array([0.49497804, 0.01246391]), 2, -1.0, array([0.50822756, 0.01324952]), 2, True)\n"
          ],
          "name": "stdout"
        }
      ]
    },
    {
      "cell_type": "code",
      "metadata": {
        "colab": {
          "base_uri": "https://localhost:8080/",
          "height": 499
        },
        "id": "r-hx4FP7pFlT",
        "outputId": "7e355a3c-638c-4766-e934-806c08925573"
      },
      "source": [
        "#%% Off-policy TD(0) expected SARSA with a greedy control policy \r\n",
        "# Training and Testing\r\n",
        "\r\n",
        "# Training\r\n",
        "\r\n",
        "def eSARSA_update_fun(episode, Q, alpha, gamma, *args, **kwargs):\r\n",
        "    \"\"\"\r\n",
        "    Page 133\r\n",
        "\r\n",
        "    Since pi is a greedy policy (i.e. p[np.argmax(Q[s_])] = 1.0 else 0.0)\r\n",
        "    this is in effect identical to Q learning\r\n",
        "    \"\"\"\r\n",
        "    s, a, r, s_, a_, done = episode[-1]\r\n",
        "    p = np.zeros(Q.shape[1]); p[np.argmax(Q[s_])] = 1.0\r\n",
        "    Q[s, a] = Q[s, a] + alpha * (r + gamma * (Q[s_] @ p) * (1-done) - Q[s, a])\r\n",
        "\r\n",
        "result = train(step_update_fun=eSARSA_update_fun, \r\n",
        "               gamma=0.999, eps = 0.0001, alpha=0.20, n_training_episodes=2500)\r\n",
        "globals().update(result)\r\n",
        "\r\n",
        "# Testing\r\n",
        "\r\n",
        "for i in range(10):\r\n",
        "    episode = list(run_env(lambda o: np.argmax(Q[obs2state(o)]), plot=False))\r\n",
        "    print(f\"Testing episode ended in {len(episode)} steps at {episode[-1]}\")\r\n",
        "\r\n",
        "episode = list(run_env(lambda o: np.argmax(Q[obs2state(o)]), plot='display' in globals()))\r\n",
        "print(f\"Testing episode ended in {len(episode)} steps at {episode[-1]}\")"
      ],
      "execution_count": 30,
      "outputs": [
        {
          "output_type": "display_data",
          "data": {
            "image/png": "[encoded data removed]",
            "text/plain": [
              "<Figure size 432x288 with 1 Axes>"
            ]
          },
          "metadata": {
            "tags": [],
            "needs_background": "light"
          }
        },
        {
          "output_type": "stream",
          "text": [
            "Testing episode ended in 132 steps at (array([0.4880075 , 0.02249307]), 2, -1.0, array([0.51123414, 0.02322664]), 2, True)\n",
            "Testing episode ended in 115 steps at (array([0.46656907, 0.0363787 ]), 2, -1.0, array([0.50352214, 0.03695306]), 2, True)\n",
            "Testing episode ended in 116 steps at (array([0.46656907, 0.0363787 ]), 2, -1.0, array([0.50352214, 0.03695306]), 2, True)\n",
            "Testing episode ended in 120 steps at (array([0.49305133, 0.03001496]), 2, -1.0, array([0.52383751, 0.03078618]), 2, True)\n",
            "Testing episode ended in 138 steps at (array([0.48445268, 0.01484331]), 2, -1.0, array([0.50000307, 0.01555039]), 2, True)\n",
            "Testing episode ended in 143 steps at (array([0.48861156, 0.01262308]), 2, -1.0, array([0.50197271, 0.01336116]), 2, True)\n",
            "Testing episode ended in 142 steps at (array([0.49115449, 0.01321926]), 2, -1.0, array([0.5051308 , 0.01397631]), 2, True)\n",
            "Testing episode ended in 120 steps at (array([0.49452783, 0.03206053]), 2, -1.0, array([0.5273706 , 0.03284277]), 2, True)\n",
            "Testing episode ended in 129 steps at (array([0.49806608, 0.02345968]), 2, -1.0, array([0.52233445, 0.02426837]), 2, True)\n",
            "Testing episode ended in 125 steps at (array([0.49342311, 0.02413466]), 2, -1.0, array([0.51833176, 0.02490865]), 2, True)\n",
            "Testing episode ended in 118 steps at (array([0.46680927, 0.03520934]), 2, -1.0, array([0.50259475, 0.03578547]), 2, True)\n"
          ],
          "name": "stdout"
        }
      ]
    },
    {
      "cell_type": "markdown",
      "metadata": {
        "id": "XCunC6YeahM_"
      },
      "source": [
        ""
      ]
    },
    {
      "cell_type": "markdown",
      "metadata": {
        "id": "LJLFVLJyahP1"
      },
      "source": [
        ""
      ]
    },
    {
      "cell_type": "markdown",
      "metadata": {
        "id": "LpTqtZ6eahSQ"
      },
      "source": [
        ""
      ]
    },
    {
      "cell_type": "markdown",
      "metadata": {
        "id": "mhgBtTDsahU9"
      },
      "source": [
        ""
      ]
    },
    {
      "cell_type": "markdown",
      "metadata": {
        "id": "P0vzHxNCahX7"
      },
      "source": [
        ""
      ]
    },
    {
      "cell_type": "markdown",
      "metadata": {
        "id": "yBXGtGs2ahaf"
      },
      "source": [
        ""
      ]
    },
    {
      "cell_type": "markdown",
      "metadata": {
        "id": "sgV7J1xcahdR"
      },
      "source": [
        ""
      ]
    },
    {
      "cell_type": "markdown",
      "metadata": {
        "id": "I5LqnUnAahfh"
      },
      "source": [
        ""
      ]
    },
    {
      "cell_type": "markdown",
      "metadata": {
        "id": "9Y15cbVwahhj"
      },
      "source": [
        ""
      ]
    },
    {
      "cell_type": "markdown",
      "metadata": {
        "id": "26LofBs-ahkT"
      },
      "source": [
        "\r\n",
        "Exercise 2: TD(n)\r\n",
        "-----------------\r\n",
        "\r\n",
        "A useful ungraded exercise. Develop code for TD(n) predication, n-step SARSA (on-policy) control and off-policy Tree Backup control.\r\n",
        "\r\n",
        "Test it out.\r\n",
        "\r\n",
        "Task 2: TD(2), TD(3), TD(4)\r\n",
        "---------------------------\r\n",
        "\r\n",
        "Code controllers for TD(2), TD(3), and TD(4) using n-SARSA. Assess performance and compare against TD(0) and each other.\r\n",
        "\r\n",
        "You may choose to use your work from Ex 2 for this (if you did Ex 2); otherwise you can code specific solvers for TD(2/3/4).\r\n",
        "\r\n",
        "Bonus Task 3: Tree Backup\r\n",
        "-------------------------\r\n",
        "\r\n",
        "This is optional; if you do this, your grade can exceed 100% and will offset other grades.\r\n",
        "\r\n",
        "Assess the performance of Tree Backup for TD(2), TD(3), and TD(4) versus the respective n-SARSA controller.\r\n",
        "\r\n",
        "Submission:\r\n",
        "-----------\r\n",
        "\r\n",
        "Submit a pdf containing your code --- in order --- and traces/logs indicating the controlling of the environment (instrument your code). Clearly include performance results (annotated with any parameters you chose). When asked to compare, show tables, and include discussion where needed to ensure your results are presented clearly. The TA can only grade what they see clearly presented; it is your responsibility to ensure this is the case. Follow the structure of the assignment spec.\r\n",
        "\r\n",
        "1615953599 03/16/2021 11:59pm"
      ]
    },
    {
      "cell_type": "code",
      "metadata": {
        "id": "asx9UlZcaaYB"
      },
      "source": [
        ""
      ],
      "execution_count": null,
      "outputs": []
    }
  ]
}