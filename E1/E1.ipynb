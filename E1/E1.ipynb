{
  "nbformat": 4,
  "nbformat_minor": 0,
  "metadata": {
    "colab": {
      "name": "E1.ipynb",
      "provenance": [],
      "collapsed_sections": [],
      "authorship_tag": "ABX9TyNmZdTn3WFrh9w+pN5cI2+e",
      "include_colab_link": true
    },
    "kernelspec": {
      "name": "python3",
      "display_name": "Python 3"
    }
  },
  "cells": [
    {
      "cell_type": "markdown",
      "metadata": {
        "id": "view-in-github",
        "colab_type": "text"
      },
      "source": [
        "<a href=\"https://colab.research.google.com/github/constructor-s/aps1080_winter_2021/blob/main/E1/E1.ipynb\" target=\"_parent\"><img src=\"https://colab.research.google.com/assets/colab-badge.svg\" alt=\"Open In Colab\"/></a>"
      ]
    },
    {
      "cell_type": "markdown",
      "metadata": {
        "id": "EcvdkKS8n7Bl"
      },
      "source": [
        "# Exercise I: Introductory Lectures \r\n",
        "## A. Read Chapter 3 and do the following exercises: 3.7-3.9, 3.12, 3.18, 3.19"
      ]
    },
    {
      "cell_type": "markdown",
      "metadata": {
        "id": "HstDan5Doa3z"
      },
      "source": [
        "### 3.7\r\n",
        "\r\n",
        "No—The agent initially does not have the knowledge of what actions to take to escape the maze. In this situation, the agenent has a constant reward of zero as long as the maze is not escpated. There is no difference learned about different states by the agent. Instead a negative reward needs to be apply when the maze is not escaped to encourage escaping the maze."
      ]
    },
    {
      "cell_type": "markdown",
      "metadata": {
        "id": "YSXetAO3obIY"
      },
      "source": [
        "### 3.8\r\n",
        "\r\n",
        "Based on equation 3.8:\r\n",
        "\r\n",
        "$$ G_5 = 0$$\r\n",
        "$$ G_4 = R_5 + \\gamma G_5 = 2 $$\r\n",
        "$$ G_3 = R_4 + \\gamma G_4 = 4 $$\r\n",
        "$$ G_2 = R_3 + \\gamma G_3 = 8 $$\r\n",
        "$$ G_1 = R_2 + \\gamma G_2 = 6 $$\r\n",
        "$$ G_0 = R_1 + \\gamma G_1 = 2 $$\r\n"
      ]
    },
    {
      "cell_type": "markdown",
      "metadata": {
        "id": "CJD93SyEobKm"
      },
      "source": [
        "### 3.9\r\n",
        "$$ \r\n",
        "\\begin{align}\r\n",
        "G_1 \r\n",
        "&\\doteq \\sum_{k=0}^\\infty \\gamma^k R_{1+k+1} \\\\\r\n",
        "&= \\sum_{k=0}^\\infty 0.9^k 2 \\\\\r\n",
        "&= 10\r\n",
        "\\end{align}\r\n",
        "$$\r\n",
        "\r\n",
        "$$ G_0 = R_1 + \\gamma G_1 = 2 + 0.9\\times10 = 11 $$"
      ]
    },
    {
      "cell_type": "markdown",
      "metadata": {
        "id": "TlMXw31xobNL"
      },
      "source": [
        "### 3.12\r\n",
        "\r\n",
        "<!-- v_\\pi(q_\\pi,\\pi) \r\n",
        "&= \\mathbb{E}_{(s|q_\\pi,\\pi)}\r\n",
        "\\left[ v_\\pi(s) \\right]\r\n",
        "\\\\ -->\r\n",
        "\r\n",
        "$$ \\begin{align}\r\n",
        "v_{\\pi}(s) \r\n",
        "&\\doteq \\mathbb{E}_{\\pi}\r\n",
        "\\left[ G_t | S_t=s \\right]\r\n",
        "\\\\\r\n",
        "&= \\mathbb{E}_{\\pi}\r\n",
        "\\left[ q_{\\pi} (s,a) | S_t=s \\right]\r\n",
        "\\\\\r\n",
        "&= \\sum_{a\\in \\mathcal{A}} \\left[ \\pi(a|s) q_{\\pi} (s,a) \\right]\r\n",
        "\\end{align} $$"
      ]
    },
    {
      "cell_type": "markdown",
      "metadata": {
        "id": "M6uVosP3obPj"
      },
      "source": [
        "### 3.18\r\n",
        "\r\n",
        "$$ \\begin{align}\r\n",
        "v_{\\pi}(s) \r\n",
        "&= \\mathbb{E}_{\\pi}\r\n",
        "\\left[ q_{\\pi}(s,a) | S_t=s \\right]\r\n",
        "\\\\\r\n",
        "&= \\sum_{a\\in \\mathcal{A}} \\left[ \\pi(a|s) q_{\\pi} (s,a) \\right]\r\n",
        "\\end{align} $$"
      ]
    },
    {
      "cell_type": "markdown",
      "metadata": {
        "id": "9n_p4i88obRz"
      },
      "source": [
        "### 3.19\r\n",
        "\r\n",
        "$$ \\begin{align}\r\n",
        "q_{\\pi}(s,a) \r\n",
        "&= \\mathbb{E}_{p(s',r|s,a)}\\left[\r\n",
        "r+v_{\\pi}(s')\r\n",
        "| S_t=s,A_t=a\r\n",
        "\\right]\r\n",
        "\\\\\r\n",
        "&= \\sum_{s'\\in\\mathcal{S}}\\sum_{r\\in\\mathcal{R}}\\left[\r\n",
        "    p(s',r|s,a)(r+v_{\\pi}(s'))\r\n",
        "\\right]\r\n",
        "\\end{align} $$"
      ]
    }
  ]
}