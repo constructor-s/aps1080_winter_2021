{
  "nbformat": 4,
  "nbformat_minor": 0,
  "metadata": {
    "colab": {
      "name": "A3.ipynb",
      "provenance": [],
      "collapsed_sections": [],
      "authorship_tag": "ABX9TyOuxkExpYUqPlW4lSZHSeqw",
      "include_colab_link": true
    },
    "kernelspec": {
      "name": "python3",
      "display_name": "Python 3"
    }
  },
  "cells": [
    {
      "cell_type": "markdown",
      "metadata": {
        "id": "view-in-github",
        "colab_type": "text"
      },
      "source": [
        "<a href=\"https://colab.research.google.com/github/constructor-s/aps1080_winter_2021/blob/main/A3/A3.ipynb\" target=\"_parent\"><img src=\"https://colab.research.google.com/assets/colab-badge.svg\" alt=\"Open In Colab\"/></a>"
      ]
    },
    {
      "cell_type": "markdown",
      "metadata": {
        "id": "7gHGSBf5yqVc"
      },
      "source": [
        "\r\n",
        "# Exercise III: Cart-Pole with TD(0)\r\n",
        "\r\n",
        "    Due Monday by 11:59pm Points 100 Submitting a file upload File Types pdf\r\n",
        "\r\n",
        "> Solve the Cart-Pole control problem using TD(0) methods.\r\n",
        "> \r\n",
        "> For control use\r\n",
        "> \r\n",
        "> a. on-policy SARSA\r\n",
        "> \r\n",
        "> b. off-policy Q learning\r\n",
        "> \r\n",
        "> c. off-policy Expected SARSA with an epsilon-greedy policy\r\n",
        "> \r\n",
        ">  \r\n",
        "> \r\n",
        "> This is to prepare you for the next assignment which will be a slight extension of TD(0)."
      ]
    },
    {
      "cell_type": "code",
      "metadata": {
        "colab": {
          "base_uri": "https://localhost:8080/"
        },
        "id": "DsW-mykrygxD",
        "outputId": "34d515e7-09c4-4e23-9d15-9f909be019b4"
      },
      "source": [
        "#%% Boilerplate setup\r\n",
        "\r\n",
        "import gym, numpy as np, matplotlib.pyplot as plt\r\n",
        "\r\n",
        "# Discretization of states\r\n",
        "\r\n",
        "\"\"\"\r\n",
        "Observation:\r\n",
        "    Type: Box(4)\r\n",
        "    Num     Observation               Min                     Max\r\n",
        "    0       Cart Position             -4.8                    4.8\r\n",
        "    1       Cart Velocity             -Inf                    Inf\r\n",
        "    2       Pole Angle                -0.418 rad (-24 deg)    0.418 rad (24 deg)\r\n",
        "    3       Pole Angular Velocity     -Inf                    Inf\r\n",
        "The episode ends when the pole is more than 15 degrees from vertical, \r\n",
        "or the cart moves more than 2.4 units from the center.\r\n",
        "\"\"\"\r\n",
        "\r\n",
        "def obs2state(obs):\r\n",
        "    \"\"\"\r\n",
        "    Discretize observations to states\r\n",
        "    \"\"\"\r\n",
        "    digitized = [np.searchsorted(bins, o, \"right\") \r\n",
        "            for o, bins in zip(obs, obs2state.bin_divide)]\r\n",
        "    return (digitized * obs2state.multiplier).sum()\r\n",
        "obs2state.bin_divide = (\r\n",
        "        np.linspace(-2.3, +2.3, 3),\r\n",
        "        np.linspace(-1.0, +1.0, 3),\r\n",
        "        np.linspace(-0.20, +0.20, 3),\r\n",
        "        np.linspace(-1.0, +1.0, 3),\r\n",
        "        )\r\n",
        "obs2state.multiplier = 4**np.arange(4); obs2state.S = 4**4\r\n",
        "# obs2state.bin_divide = ([0],[0],[0],[0])\r\n",
        "# obs2state.multiplier = 2**np.arange(4); obs2state.S = 2**4\r\n",
        "\r\n",
        "def test_cart_pole(policy_fun, env=gym.make(\"CartPole-v0\"), \r\n",
        "                   max_iter=1000):\r\n",
        "    \"\"\"\r\n",
        "    Test the policy against the environment\r\n",
        "\r\n",
        "    Parameters\r\n",
        "    ------------------\r\n",
        "    policy_fun : function\r\n",
        "        A funtion that takes the discretized state from the CartPole \r\n",
        "        environment and returns a valid action of the environment\r\n",
        "\r\n",
        "    Yields\r\n",
        "    ------\r\n",
        "    S_t, A_t, R_t+1, S_t+1, A_t+1, done\r\n",
        "        SARSA pairs. S is the discretized state\r\n",
        "    \"\"\"\r\n",
        "    obs = env.reset(); s = obs2state(obs)\r\n",
        "    a = policy_fun(s)\r\n",
        "    for i in range(max_iter):\r\n",
        "        next_obs, r, done, info = env.step(a); next_s = obs2state(next_obs)\r\n",
        "        next_a = policy_fun(next_s)\r\n",
        "        yield s, a, r, next_s, next_a, done\r\n",
        "        obs, s, a = next_obs, next_s, next_a\r\n",
        "        if done:\r\n",
        "            break\r\n",
        "    env.close()\r\n",
        "\r\n",
        "# Test that the function works\r\n",
        "rng = np.random.RandomState(0)\r\n",
        "print(\"\\n\".join(map(str, enumerate(test_cart_pole(lambda _: rng.randint(0, 2))))))"
      ],
      "execution_count": 53,
      "outputs": [
        {
          "output_type": "stream",
          "text": [
            "(0, (102, 0, 1.0, 166, 1, False))\n",
            "(1, (166, 1, 1.0, 166, 1, False))\n",
            "(2, (166, 1, 1.0, 106, 0, False))\n",
            "(3, (106, 0, 1.0, 166, 1, False))\n",
            "(4, (166, 1, 1.0, 106, 1, False))\n",
            "(5, (106, 1, 1.0, 106, 1, False))\n",
            "(6, (106, 1, 1.0, 106, 1, False))\n",
            "(7, (106, 1, 1.0, 42, 1, False))\n",
            "(8, (42, 1, 1.0, 26, 1, False))\n",
            "(9, (26, 1, 1.0, 30, 1, False))\n",
            "(10, (30, 1, 1.0, 30, 0, False))\n",
            "(11, (30, 0, 1.0, 30, 0, False))\n",
            "(12, (30, 0, 1.0, 26, 1, False))\n",
            "(13, (26, 1, 1.0, 30, 0, False))\n",
            "(14, (30, 0, 1.0, 10, 0, True))\n"
          ],
          "name": "stdout"
        }
      ]
    },
    {
      "cell_type": "code",
      "metadata": {
        "colab": {
          "base_uri": "https://localhost:8080/"
        },
        "id": "4qfs4-YT0j2U",
        "outputId": "9cca8ebc-a04a-4368-ce65-4a9c1574ec35"
      },
      "source": [
        "#%% on-policy SARSA\r\n",
        "# page 130\r\n",
        "\r\n",
        "alpha = 0.500\r\n",
        "eps = 0.001\r\n",
        "gamma = 0.999\r\n",
        "\r\n",
        "num_S = obs2state.S\r\n",
        "num_A = 2\r\n",
        "rng = np.random.RandomState(0)\r\n",
        "\r\n",
        "Q = rng.random([num_S, num_A])\r\n",
        "\r\n",
        "training_hist = []\r\n",
        "try:\r\n",
        "    for episode_i in range(10000):\r\n",
        "        policy_fun = lambda s: rng.choice((np.argmax(Q[s]), rng.randint(num_A)), p=(1-eps, eps))\r\n",
        "        for step_i, (s, a, r, s_, a_, done) in enumerate(test_cart_pole(policy_fun)):\r\n",
        "            Q[s, a] = Q[s, a] + alpha * (r + gamma * Q[s_, a_] * (1-done) - Q[s, a])\r\n",
        "        training_hist.append((episode_i, step_i))\r\n",
        "        if episode_i % 500 == 0:\r\n",
        "            print(f\"Training: Episode {episode_i} lasted {step_i} steps\")\r\n",
        "except KeyboardInterrupt:\r\n",
        "    pass\r\n",
        "finally:\r\n",
        "    print(f\"Training: Episode {episode_i} lasted {step_i} steps\")\r\n",
        "    training_hist = np.array(training_hist)"
      ],
      "execution_count": 84,
      "outputs": [
        {
          "output_type": "stream",
          "text": [
            "Training: Episode 0 lasted 39 steps\n",
            "Training: Episode 500 lasted 48 steps\n",
            "Training: Episode 1000 lasted 106 steps\n",
            "Training: Episode 1500 lasted 183 steps\n",
            "Training: Episode 2000 lasted 199 steps\n",
            "Training: Episode 2500 lasted 76 steps\n",
            "Training: Episode 3000 lasted 199 steps\n",
            "Training: Episode 3500 lasted 151 steps\n",
            "Training: Episode 4000 lasted 178 steps\n",
            "Training: Episode 4500 lasted 80 steps\n",
            "Training: Episode 5000 lasted 199 steps\n",
            "Training: Episode 5500 lasted 198 steps\n",
            "Training: Episode 6000 lasted 199 steps\n",
            "Training: Episode 6500 lasted 199 steps\n",
            "Training: Episode 6856 lasted 173 steps\n"
          ],
          "name": "stdout"
        }
      ]
    },
    {
      "cell_type": "code",
      "metadata": {
        "colab": {
          "base_uri": "https://localhost:8080/",
          "height": 298
        },
        "id": "K8zx-PyI4_ks",
        "outputId": "5bfc9410-8772-4427-c976-990a19c7e880"
      },
      "source": [
        "plt.scatter(training_hist[:, 0], training_hist[:, 1], s=0.1, alpha=0.5)\r\n",
        "plt.xlabel(\"Training episode\")\r\n",
        "plt.ylabel(\"Performance (steps)\")"
      ],
      "execution_count": 85,
      "outputs": [
        {
          "output_type": "execute_result",
          "data": {
            "text/plain": [
              "Text(0, 0.5, 'Performance (steps)')"
            ]
          },
          "metadata": {
            "tags": []
          },
          "execution_count": 85
        },
        {
          "output_type": "display_data",
          "data": {
            "image/png": "[encoded data removed]",
            "text/plain": [
              "<Figure size 432x288 with 1 Axes>"
            ]
          },
          "metadata": {
            "tags": [],
            "needs_background": "light"
          }
        }
      ]
    },
    {
      "cell_type": "code",
      "metadata": {
        "colab": {
          "base_uri": "https://localhost:8080/"
        },
        "id": "EOhm69grAY4q",
        "outputId": "353d5210-45bb-4e80-fffd-c9bb96f2e805"
      },
      "source": [
        "for episode_i in range(10):\r\n",
        "    policy_fun = lambda s: np.argmax(Q[s])\r\n",
        "    for step_i, (s, a, r, s_, a_, done) in enumerate(test_cart_pole(policy_fun)):\r\n",
        "        pass\r\n",
        "    print(f\"Testing: Episode {episode_i} lasted {step_i} steps\")"
      ],
      "execution_count": 86,
      "outputs": [
        {
          "output_type": "stream",
          "text": [
            "Testing: Episode 0 lasted 199 steps\n",
            "Testing: Episode 1 lasted 199 steps\n",
            "Testing: Episode 2 lasted 199 steps\n",
            "Testing: Episode 3 lasted 199 steps\n",
            "Testing: Episode 4 lasted 199 steps\n",
            "Testing: Episode 5 lasted 199 steps\n",
            "Testing: Episode 6 lasted 199 steps\n",
            "Testing: Episode 7 lasted 199 steps\n",
            "Testing: Episode 8 lasted 199 steps\n",
            "Testing: Episode 9 lasted 199 steps\n"
          ],
          "name": "stdout"
        }
      ]
    }
  ]
}