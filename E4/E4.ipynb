{
  "nbformat": 4,
  "nbformat_minor": 0,
  "metadata": {
    "colab": {
      "name": "E4.ipynb",
      "provenance": [],
      "collapsed_sections": [],
      "toc_visible": true,
      "authorship_tag": "ABX9TyOmFJ9TsZhrg5GnmNaxO5qL",
      "include_colab_link": true
    },
    "kernelspec": {
      "name": "python3",
      "display_name": "Python 3"
    },
    "language_info": {
      "name": "python"
    }
  },
  "cells": [
    {
      "cell_type": "markdown",
      "metadata": {
        "id": "view-in-github",
        "colab_type": "text"
      },
      "source": [
        "<a href=\"https://colab.research.google.com/github/constructor-s/aps1080_winter_2021/blob/main/E4/E4.ipynb\" target=\"_parent\"><img src=\"https://colab.research.google.com/assets/colab-badge.svg\" alt=\"Open In Colab\"/></a>"
      ]
    },
    {
      "cell_type": "markdown",
      "metadata": {
        "id": "CA_bXUGx-gA9"
      },
      "source": [
        "> Exercise IV: Function Approximation\n",
        "> ===================================\n",
        "> \n",
        "> Submit Assignment\n",
        "> \n",
        "> *   Due Tuesday by 11:59pm\n",
        "> *   Points 10\n",
        "> *   Submitting a file upload\n",
        "> *   File Types pdf\n",
        "> \n",
        "> You will use function approximation to device controllers for the mountain car and/or cart pole problems in Assignment IV.\n",
        "> \n",
        "> Rather than code a function approximation class (straightforward but outside of the scope of our course), you'll use a library, TensorFlow, for this.\n",
        "> \n",
        "> There are two front ends for TensorFlow that make it easier to construct, debug, etc., neural networks (general nonlinear function approximation structures): Keras (keras.io) and TfLearn (tflearn.org).\n",
        "> \n",
        "> Consult the documentation for these two (either, your choice) and learn how to:\n",
        "> \n",
        "> *   Construct a neural network with several layers\n",
        "> *   Obtain the gradient of the neural network with respect to its parameters\n",
        "> *   Train the neural network by stochastic gradient descent using a loop that you construct and in which you update the weights as per the gradient and the error (you will use this in A-IV)\n",
        "> \n",
        "> Submit, via pdf, the results of your investigation. Graded for completion; this is an opportunity for you to ask questions in case you are stuck.\n",
        "> \n",
        "> Consult Files/stochastic\\_gradient\\_descent\\_example.py for one example to help you get started.\n",
        "> \n",
        "> 1617163199 03/30/2021 11:59pm"
      ]
    },
    {
      "cell_type": "markdown",
      "metadata": {
        "id": "AuNtxfTiOqKk"
      },
      "source": [
        "# Set up dependencies, functions"
      ]
    },
    {
      "cell_type": "code",
      "metadata": {
        "id": "dKyYFas--2QA"
      },
      "source": [
        "#%% Set up rendering\n",
        "\n",
        "if False:\n",
        "    !apt install xvfb\n",
        "    !pip install pyvirtualdisplay\n",
        "    from pyvirtualdisplay import Display\n",
        "    display = Display(visible=False, size=(400, 300))\n",
        "    display.start()"
      ],
      "execution_count": 2,
      "outputs": []
    },
    {
      "cell_type": "code",
      "metadata": {
        "id": "TcxL2h4xN769"
      },
      "source": [
        "#%% Imports\n",
        "\n",
        "import gym\n",
        "import numpy as np\n",
        "import pandas as pd\n",
        "import matplotlib.pyplot as plt\n",
        "from collections import *\n",
        "from IPython.display import clear_output\n",
        "\n",
        "import torch\n",
        "import torch.nn as nn\n",
        "import torch.nn.functional as F\n",
        "import torch.optim as optim\n",
        "\n",
        "import datetime\n"
      ],
      "execution_count": 28,
      "outputs": []
    },
    {
      "cell_type": "markdown",
      "metadata": {
        "id": "GEndhJ0GOxSx"
      },
      "source": [
        "The function below generates episodes of experience - see doc string for details"
      ]
    },
    {
      "cell_type": "code",
      "metadata": {
        "colab": {
          "base_uri": "https://localhost:8080/",
          "height": 664
        },
        "id": "bv-ZaK2ON_rB",
        "outputId": "03a1db47-dff4-4186-85a1-570bc50d199e"
      },
      "source": [
        "#%% Set up the environment\n",
        "def run_env(policy_fun, \n",
        "            env, max_iter=1000, \n",
        "            debug=False, plot=False):\n",
        "    \"\"\"\n",
        "    Simulate episodes of the environment\n",
        "\n",
        "    Parameters\n",
        "    ------------------\n",
        "    policy_fun : function\n",
        "        A function that maps observation, and current time step index \n",
        "        to valid action\n",
        "    \n",
        "    debug : bool\n",
        "        print the last two states\n",
        "\n",
        "    plot : bool\n",
        "        plot visualization during select steps\n",
        "        a (virtual) screen must be available for gym render\n",
        "\n",
        "    Yields\n",
        "    ------------------\n",
        "    O_t, A_t, R_t+1, O_t+1, A_t+1, done\n",
        "        SARSA pairs. O is the observation.\n",
        "    \"\"\"\n",
        "    if plot:\n",
        "        fig, ax = plt.subplots(2, 5, figsize=(11, 8.5))\n",
        "\n",
        "    obs = env.reset() \n",
        "    a = policy_fun(obs, 0)\n",
        "    for i in range(max_iter):\n",
        "        next_obs, r, done, info = env.step(a) \n",
        "        next_a = policy_fun(next_obs, i+1)\n",
        "        yield obs, a, r, next_obs, next_a, done\n",
        "\n",
        "        if plot and i%20 == 19:\n",
        "            # Visualize some states\n",
        "            ax.ravel()[i // 20].imshow(env.render(mode='rgb_array'))\n",
        "            ax.ravel()[i // 20].set_title(\n",
        "                f\"Step {i}, obs =\\n{np.array2string(obs, precision=1)}\")\n",
        "        if debug and done:\n",
        "            print(f\"Observation at i = {i}: {obs}\")\n",
        "\n",
        "        obs, a = next_obs, next_a\n",
        "\n",
        "        if done:\n",
        "\n",
        "            if debug:\n",
        "                print(f\"Observation at terminal: {obs}\")\n",
        "            if plot:\n",
        "                ax.ravel()[-1].imshow(env.render(mode='rgb_array'))\n",
        "                ax.ravel()[-1].set_title(\n",
        "                    f\"Step {i}, obs =\\n{np.array2string(obs, precision=1)}\")\n",
        "                \n",
        "            break\n",
        "    env.close()\n",
        "\n",
        "print(\"Generating a random episode:\")\n",
        "env = gym.make('CartPole-v0')\n",
        "pd.DataFrame(run_env(lambda *_, **__: env.action_space.sample(),\n",
        "                     plot='display' in globals(), \n",
        "                     env=env),\n",
        "             columns=[\"O_t\", \"A_t\", \"R_t+1\", \"O_t+1\", \"A_t+1\", \"done\"])"
      ],
      "execution_count": 6,
      "outputs": [
        {
          "output_type": "stream",
          "text": [
            "Generating a random episode:\n"
          ],
          "name": "stdout"
        },
        {
          "output_type": "execute_result",
          "data": {
            "text/html": [
              "<div>\n",
              "<style scoped>\n",
              "    .dataframe tbody tr th:only-of-type {\n",
              "        vertical-align: middle;\n",
              "    }\n",
              "\n",
              "    .dataframe tbody tr th {\n",
              "        vertical-align: top;\n",
              "    }\n",
              "\n",
              "    .dataframe thead th {\n",
              "        text-align: right;\n",
              "    }\n",
              "</style>\n",
              "<table border=\"1\" class=\"dataframe\">\n",
              "  <thead>\n",
              "    <tr style=\"text-align: right;\">\n",
              "      <th></th>\n",
              "      <th>O_t</th>\n",
              "      <th>A_t</th>\n",
              "      <th>R_t+1</th>\n",
              "      <th>O_t+1</th>\n",
              "      <th>A_t+1</th>\n",
              "      <th>done</th>\n",
              "    </tr>\n",
              "  </thead>\n",
              "  <tbody>\n",
              "    <tr>\n",
              "      <th>0</th>\n",
              "      <td>[0.005720396585274866, 0.0477799659925086, -0....</td>\n",
              "      <td>1</td>\n",
              "      <td>1.0</td>\n",
              "      <td>[0.006675995905125038, 0.24310988845987358, -0...</td>\n",
              "      <td>0</td>\n",
              "      <td>False</td>\n",
              "    </tr>\n",
              "    <tr>\n",
              "      <th>1</th>\n",
              "      <td>[0.006675995905125038, 0.24310988845987358, -0...</td>\n",
              "      <td>0</td>\n",
              "      <td>1.0</td>\n",
              "      <td>[0.01153819367432251, 0.04819051487807949, -0....</td>\n",
              "      <td>0</td>\n",
              "      <td>False</td>\n",
              "    </tr>\n",
              "    <tr>\n",
              "      <th>2</th>\n",
              "      <td>[0.01153819367432251, 0.04819051487807949, -0....</td>\n",
              "      <td>0</td>\n",
              "      <td>1.0</td>\n",
              "      <td>[0.012502003971884099, -0.1466506166898306, -0...</td>\n",
              "      <td>1</td>\n",
              "      <td>False</td>\n",
              "    </tr>\n",
              "    <tr>\n",
              "      <th>3</th>\n",
              "      <td>[0.012502003971884099, -0.1466506166898306, -0...</td>\n",
              "      <td>1</td>\n",
              "      <td>1.0</td>\n",
              "      <td>[0.009568991638087486, 0.04873234933738135, -0...</td>\n",
              "      <td>1</td>\n",
              "      <td>False</td>\n",
              "    </tr>\n",
              "    <tr>\n",
              "      <th>4</th>\n",
              "      <td>[0.009568991638087486, 0.04873234933738135, -0...</td>\n",
              "      <td>1</td>\n",
              "      <td>1.0</td>\n",
              "      <td>[0.010543638624835113, 0.24402996504170674, -0...</td>\n",
              "      <td>0</td>\n",
              "      <td>False</td>\n",
              "    </tr>\n",
              "    <tr>\n",
              "      <th>5</th>\n",
              "      <td>[0.010543638624835113, 0.24402996504170674, -0...</td>\n",
              "      <td>0</td>\n",
              "      <td>1.0</td>\n",
              "      <td>[0.015424237925669248, 0.0490826844671296, -0....</td>\n",
              "      <td>1</td>\n",
              "      <td>False</td>\n",
              "    </tr>\n",
              "    <tr>\n",
              "      <th>6</th>\n",
              "      <td>[0.015424237925669248, 0.0490826844671296, -0....</td>\n",
              "      <td>1</td>\n",
              "      <td>1.0</td>\n",
              "      <td>[0.01640589161501184, 0.24445433814823372, -0....</td>\n",
              "      <td>0</td>\n",
              "      <td>False</td>\n",
              "    </tr>\n",
              "    <tr>\n",
              "      <th>7</th>\n",
              "      <td>[0.01640589161501184, 0.24445433814823372, -0....</td>\n",
              "      <td>0</td>\n",
              "      <td>1.0</td>\n",
              "      <td>[0.021294978377976514, 0.04958740681774115, -0...</td>\n",
              "      <td>1</td>\n",
              "      <td>False</td>\n",
              "    </tr>\n",
              "    <tr>\n",
              "      <th>8</th>\n",
              "      <td>[0.021294978377976514, 0.04958740681774115, -0...</td>\n",
              "      <td>1</td>\n",
              "      <td>1.0</td>\n",
              "      <td>[0.022286726514331338, 0.24503693109017535, -0...</td>\n",
              "      <td>1</td>\n",
              "      <td>False</td>\n",
              "    </tr>\n",
              "    <tr>\n",
              "      <th>9</th>\n",
              "      <td>[0.022286726514331338, 0.24503693109017535, -0...</td>\n",
              "      <td>1</td>\n",
              "      <td>1.0</td>\n",
              "      <td>[0.027187465136134844, 0.44048535470870714, -0...</td>\n",
              "      <td>1</td>\n",
              "      <td>False</td>\n",
              "    </tr>\n",
              "    <tr>\n",
              "      <th>10</th>\n",
              "      <td>[0.027187465136134844, 0.44048535470870714, -0...</td>\n",
              "      <td>1</td>\n",
              "      <td>1.0</td>\n",
              "      <td>[0.03599717223030899, 0.6360077598835299, -0.0...</td>\n",
              "      <td>0</td>\n",
              "      <td>False</td>\n",
              "    </tr>\n",
              "    <tr>\n",
              "      <th>11</th>\n",
              "      <td>[0.03599717223030899, 0.6360077598835299, -0.0...</td>\n",
              "      <td>0</td>\n",
              "      <td>1.0</td>\n",
              "      <td>[0.04871732742797959, 0.44147330956217584, -0....</td>\n",
              "      <td>1</td>\n",
              "      <td>False</td>\n",
              "    </tr>\n",
              "    <tr>\n",
              "      <th>12</th>\n",
              "      <td>[0.04871732742797959, 0.44147330956217584, -0....</td>\n",
              "      <td>1</td>\n",
              "      <td>1.0</td>\n",
              "      <td>[0.0575467936192231, 0.6373758754465639, -0.07...</td>\n",
              "      <td>0</td>\n",
              "      <td>False</td>\n",
              "    </tr>\n",
              "    <tr>\n",
              "      <th>13</th>\n",
              "      <td>[0.0575467936192231, 0.6373758754465639, -0.07...</td>\n",
              "      <td>0</td>\n",
              "      <td>1.0</td>\n",
              "      <td>[0.07029431112815437, 0.44329864579396605, -0....</td>\n",
              "      <td>1</td>\n",
              "      <td>False</td>\n",
              "    </tr>\n",
              "    <tr>\n",
              "      <th>14</th>\n",
              "      <td>[0.07029431112815437, 0.44329864579396605, -0....</td>\n",
              "      <td>1</td>\n",
              "      <td>1.0</td>\n",
              "      <td>[0.07916028404403369, 0.639560230595625, -0.10...</td>\n",
              "      <td>1</td>\n",
              "      <td>False</td>\n",
              "    </tr>\n",
              "    <tr>\n",
              "      <th>15</th>\n",
              "      <td>[0.07916028404403369, 0.639560230595625, -0.10...</td>\n",
              "      <td>1</td>\n",
              "      <td>1.0</td>\n",
              "      <td>[0.09195148865594618, 0.8359128311655141, -0.1...</td>\n",
              "      <td>1</td>\n",
              "      <td>False</td>\n",
              "    </tr>\n",
              "    <tr>\n",
              "      <th>16</th>\n",
              "      <td>[0.09195148865594618, 0.8359128311655141, -0.1...</td>\n",
              "      <td>1</td>\n",
              "      <td>1.0</td>\n",
              "      <td>[0.10866974527925646, 1.0323684680154477, -0.1...</td>\n",
              "      <td>0</td>\n",
              "      <td>False</td>\n",
              "    </tr>\n",
              "    <tr>\n",
              "      <th>17</th>\n",
              "      <td>[0.10866974527925646, 1.0323684680154477, -0.1...</td>\n",
              "      <td>0</td>\n",
              "      <td>1.0</td>\n",
              "      <td>[0.1293171146395654, 0.8392939835791513, -0.18...</td>\n",
              "      <td>1</td>\n",
              "      <td>False</td>\n",
              "    </tr>\n",
              "    <tr>\n",
              "      <th>18</th>\n",
              "      <td>[0.1293171146395654, 0.8392939835791513, -0.18...</td>\n",
              "      <td>1</td>\n",
              "      <td>1.0</td>\n",
              "      <td>[0.14610299431114843, 1.0361591275170083, -0.2...</td>\n",
              "      <td>0</td>\n",
              "      <td>True</td>\n",
              "    </tr>\n",
              "  </tbody>\n",
              "</table>\n",
              "</div>"
            ],
            "text/plain": [
              "                                                  O_t  A_t  ...  A_t+1   done\n",
              "0   [0.005720396585274866, 0.0477799659925086, -0....    1  ...      0  False\n",
              "1   [0.006675995905125038, 0.24310988845987358, -0...    0  ...      0  False\n",
              "2   [0.01153819367432251, 0.04819051487807949, -0....    0  ...      1  False\n",
              "3   [0.012502003971884099, -0.1466506166898306, -0...    1  ...      1  False\n",
              "4   [0.009568991638087486, 0.04873234933738135, -0...    1  ...      0  False\n",
              "5   [0.010543638624835113, 0.24402996504170674, -0...    0  ...      1  False\n",
              "6   [0.015424237925669248, 0.0490826844671296, -0....    1  ...      0  False\n",
              "7   [0.01640589161501184, 0.24445433814823372, -0....    0  ...      1  False\n",
              "8   [0.021294978377976514, 0.04958740681774115, -0...    1  ...      1  False\n",
              "9   [0.022286726514331338, 0.24503693109017535, -0...    1  ...      1  False\n",
              "10  [0.027187465136134844, 0.44048535470870714, -0...    1  ...      0  False\n",
              "11  [0.03599717223030899, 0.6360077598835299, -0.0...    0  ...      1  False\n",
              "12  [0.04871732742797959, 0.44147330956217584, -0....    1  ...      0  False\n",
              "13  [0.0575467936192231, 0.6373758754465639, -0.07...    0  ...      1  False\n",
              "14  [0.07029431112815437, 0.44329864579396605, -0....    1  ...      1  False\n",
              "15  [0.07916028404403369, 0.639560230595625, -0.10...    1  ...      1  False\n",
              "16  [0.09195148865594618, 0.8359128311655141, -0.1...    1  ...      0  False\n",
              "17  [0.10866974527925646, 1.0323684680154477, -0.1...    0  ...      1  False\n",
              "18  [0.1293171146395654, 0.8392939835791513, -0.18...    1  ...      0   True\n",
              "\n",
              "[19 rows x 6 columns]"
            ]
          },
          "metadata": {
            "tags": []
          },
          "execution_count": 6
        }
      ]
    },
    {
      "cell_type": "code",
      "metadata": {
        "id": "aIC3Me5_O5Vk"
      },
      "source": [
        ""
      ],
      "execution_count": null,
      "outputs": []
    },
    {
      "cell_type": "markdown",
      "metadata": {
        "id": "BEVoT18CO5vf"
      },
      "source": [
        "# Training"
      ]
    },
    {
      "cell_type": "markdown",
      "metadata": {
        "id": "tMGKLiKvO7hi"
      },
      "source": [
        "## Set up Multi-Layer Perceptron"
      ]
    },
    {
      "cell_type": "code",
      "metadata": {
        "id": "WlywJAjkOKqi"
      },
      "source": [
        "#%% Episodic semi-gradient Sarsa for estimating q\n",
        "# Page 244\n",
        "env = gym.make(\"CartPole-v0\") # gym.make('MountainCar-v0')\n",
        "\n",
        "# Set up a differentiable action-value function parameterization\n",
        "class Net(nn.Module):\n",
        "    def __init__(self, hidden_size=(256, 128)):\n",
        "        super(Net, self).__init__()\n",
        "        self.fc1 = nn.Linear(env.observation_space.shape[0], hidden_size[0])\n",
        "        self.fc2 = nn.Linear(hidden_size[0], hidden_size[1])\n",
        "        self.fc3 = nn.Linear(hidden_size[1], env.action_space.n)\n",
        "\n",
        "    def forward(self, x):\n",
        "        # Normalize x to approximately -1 to +1\n",
        "        if env.spec.id == 'CartPole-v0':\n",
        "            x = (x - (-2.3, -1.0, -0.20, -1.0)) / 2.0 / (+2.3, +1.0, +0.20, +1.0)\n",
        "        else:\n",
        "            x = (x - env.observation_space.min) / (\n",
        "                env.observation_space.max - env.observation_space.min)\n",
        "        x = torch.tensor(x, dtype=torch.float).to(self.device)\n",
        "\n",
        "        x = F.relu(self.fc1(x))\n",
        "        x = F.relu(self.fc2(x))\n",
        "        x = self.fc3(x)\n",
        "\n",
        "        # Assume output is approximately -1 to +1, \n",
        "        # Multiply into the scale of the return in the model\n",
        "        x = x * 100\n",
        "        \n",
        "        return x\n",
        "    \n",
        "    @property\n",
        "    def device(self):\n",
        "        return next(self.parameters()).device\n"
      ],
      "execution_count": 16,
      "outputs": []
    },
    {
      "cell_type": "markdown",
      "metadata": {
        "id": "hL48vOKAPACQ"
      },
      "source": [
        "## n-step training algorithm as described on textbook"
      ]
    },
    {
      "cell_type": "code",
      "metadata": {
        "colab": {
          "base_uri": "https://localhost:8080/",
          "height": 355
        },
        "id": "grYn86OzQXoK",
        "outputId": "57660794-371b-4332-a80c-f10213503d78"
      },
      "source": [
        "# Initialize parameters\n",
        "alpha = 1.0e-5\n",
        "eps = 0.2\n",
        "gamma = 0.99\n",
        "# weights w handled by library\n",
        "net = Net(hidden_size=(256, 128))\n",
        "optimizer = optim.SGD(net.parameters(), lr=alpha) # optim.Adam(net.parameters(), lr=alpha) # optim.SGD(net.parameters(), lr=alpha)\n",
        "criterion = nn.MSELoss()\n",
        "device = torch.device(\"cuda\" if torch.cuda.is_available() else \"cpu\")\n",
        "net = net.to(device)\n",
        "# TD n step\n",
        "n = 5\n",
        "rng = np.random.RandomState(0)\n",
        "\n",
        "# Monitor training history\n",
        "history_steps = []\n",
        "history_steps_testing = []\n",
        "history_loss = []\n",
        "tic = datetime.datetime.now()\n",
        "##\n",
        "\n",
        "def policy_fun(obs, *args, **kwargs):\n",
        "    \"\"\"\n",
        "    An eps greedy policy\n",
        "    \"\"\"\n",
        "    if rng.random() < eps:\n",
        "        # eps\n",
        "        return env.action_space.sample()\n",
        "    else:\n",
        "        # Greedy\n",
        "        with torch.no_grad():\n",
        "            q_vals = net(obs)\n",
        "        assert q_vals.isfinite().all()\n",
        "        a = int(q_vals.argmax())\n",
        "        # if np.abs(q_vals[0] - q_vals[1]) < 1e-9:\n",
        "        #     assert False, str(q_vals)\n",
        "        return a\n",
        "\n",
        "# Loop for each episode\n",
        "for episode_i in range(10000):\n",
        "    # Record steps from the episode yielded by run_env\n",
        "    episode = []\n",
        "\n",
        "    # import time\n",
        "    # tic = time.perf_counter()\n",
        "    for t, (s, a, r, s_, a_, done) in enumerate(run_env(policy_fun, env=env)):\n",
        "        episode.append((s, a, r, s_, a_, done))\n",
        "        \n",
        "        tau = t - n + 1\n",
        "        if tau >= 0:\n",
        "            S, A, R, S_, R_, DONE = 0, 1, 2, 3, 4, 5\n",
        "            \n",
        "            episode_section = episode[tau:tau+n]\n",
        "            G = gamma ** np.arange(len(episode_section)) @ [\n",
        "                i[R] for i in episode_section\n",
        "            ]\n",
        "            with torch.no_grad():\n",
        "                G += (1-episode_section[-1][DONE]) * (gamma ** n) * net(s_)[a_]\n",
        "\n",
        "            optimizer.zero_grad()   # zero the gradient buffers\n",
        "            q_pred = net(s)[a]\n",
        "            assert q_pred.isfinite()\n",
        "            loss = criterion(q_pred, G)\n",
        "            assert loss.isfinite()\n",
        "            loss.backward()\n",
        "            optimizer.step()    # Does the update\n",
        "\n",
        "            # Monitor training history\n",
        "            history_loss.append(loss)\n",
        "    history_steps.append(t+1)\n",
        "    \n",
        "    if episode_i % 100 == 0:\n",
        "        clear_output(wait=True)\n",
        "\n",
        "        # Get testing performance of greedy policy\n",
        "        test_performance = []\n",
        "        def policy(o, *_, **__):\n",
        "            with torch.no_grad():\n",
        "                return int(net(o).argmax())\n",
        "        for i in range(20):\n",
        "            episode = list(run_env(policy, env=env))\n",
        "            test_performance.append(len(episode))\n",
        "        print(test_performance)\n",
        "        test_performance = np.array(test_performance)\n",
        "        print(datetime.datetime.now())\n",
        "        history_steps_testing.append(test_performance.mean())\n",
        "\n",
        "        # Make plots\n",
        "        fig, ax = plt.subplots(1, 4, figsize=(14, 4))\n",
        "        ax[0].plot(history_steps, '.', markersize=0.5)\n",
        "        ax[0].set_title(\"Training performance (steps)\")\n",
        "        ax[1].plot(history_steps_testing, '-x')\n",
        "        ax[1].set_title(\"Testing performance (steps)\")\n",
        "        ax[2].semilogy(history_loss[-1000:], '.', markersize=0.5)\n",
        "        ax[2].set_title(\"Recent losses (arbitrary unit)\")\n",
        "        fig.show()\n",
        "        plt.show()\n",
        "\n",
        "        if (test_performance >= 200).all():\n",
        "            print(\"Good test performance - stop training\")\n",
        "            print(\"Training finished in\", datetime.datetime.now() - tic)\n",
        "            break\n",
        "    ##\n",
        "\n"
      ],
      "execution_count": 52,
      "outputs": [
        {
          "output_type": "stream",
          "text": [
            "[200, 200, 200, 200, 200, 200, 200, 200, 200, 200, 200, 200, 200, 200, 200, 200, 200, 200, 200, 200]\n",
            "2021-03-27 19:47:31.170345\n"
          ],
          "name": "stdout"
        },
        {
          "output_type": "display_data",
          "data": {
            "image/png": "[encoded data removed]",
            "text/plain": [
              "<Figure size 1008x288 with 4 Axes>"
            ]
          },
          "metadata": {
            "tags": [],
            "needs_background": "light"
          }
        },
        {
          "output_type": "stream",
          "text": [
            "Good test performance - stop training\n",
            "Training finished in 0:00:53.594735\n"
          ],
          "name": "stdout"
        }
      ]
    },
    {
      "cell_type": "markdown",
      "metadata": {
        "id": "wI-CrnYxPEvr"
      },
      "source": [
        "## Test the training result"
      ]
    },
    {
      "cell_type": "code",
      "metadata": {
        "id": "AWQKaroOWedb",
        "colab": {
          "base_uri": "https://localhost:8080/",
          "height": 322
        },
        "outputId": "8b9ab38b-bbad-4771-e0b4-e30728d17e3d"
      },
      "source": [
        "print(\"Testing performance\")\n",
        "test_performance = []\n",
        "def policy(o, *_, **__):\n",
        "    with torch.no_grad():\n",
        "        return int(net(o).argmax())\n",
        "for i in range(100):\n",
        "    episode = list(run_env(policy, env=env))\n",
        "    test_performance.append(len(episode))\n",
        "print(test_performance)\n",
        "_ = plt.hist(test_performance)"
      ],
      "execution_count": 54,
      "outputs": [
        {
          "output_type": "stream",
          "text": [
            "Testing performance\n",
            "[200, 200, 200, 200, 200, 200, 200, 200, 200, 200, 200, 200, 200, 200, 200, 200, 200, 200, 200, 200, 200, 200, 200, 200, 200, 200, 200, 200, 200, 200, 200, 200, 200, 200, 200, 200, 200, 200, 200, 200, 200, 200, 200, 200, 200, 200, 200, 200, 200, 200, 200, 200, 200, 200, 200, 200, 200, 200, 200, 200, 200, 200, 200, 200, 200, 200, 200, 200, 200, 200, 200, 200, 200, 200, 200, 200, 200, 200, 200, 200, 200, 200, 200, 200, 200, 200, 200, 200, 200, 200, 200, 200, 200, 200, 200, 200, 200, 200, 200, 200]\n"
          ],
          "name": "stdout"
        },
        {
          "output_type": "display_data",
          "data": {
            "image/png": "[encoded data removed]",
            "text/plain": [
              "<Figure size 432x288 with 1 Axes>"
            ]
          },
          "metadata": {
            "tags": [],
            "needs_background": "light"
          }
        }
      ]
    },
    {
      "cell_type": "code",
      "metadata": {
        "id": "rNKgJZw7Kf3e"
      },
      "source": [
        ""
      ],
      "execution_count": null,
      "outputs": []
    }
  ]
}